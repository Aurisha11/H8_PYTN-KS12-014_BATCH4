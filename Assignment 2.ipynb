{
 "cells": [
  {
   "cell_type": "code",
   "execution_count": 1,
   "id": "d631228a",
   "metadata": {},
   "outputs": [],
   "source": [
    "import pandas as pd\n",
    "import numpy as np\n",
    "import matplotlib.pyplot as plt\n",
    "import seaborn as sns\n",
    "import matplotlib as mpl\n",
    "import math\n",
    "import statistics\n",
    "import scipy.stats\n",
    "import statsmodels.api as sm\n",
    "\n",
    "\n",
    "%matplotlib inline\n",
    "sns.set(style='white', context='notebook', palette='deep') \n",
    "import matplotlib.style as style\n",
    "style.use('fivethirtyeight')"
   ]
  },
  {
   "cell_type": "code",
   "execution_count": 2,
   "id": "b06ed7c1",
   "metadata": {},
   "outputs": [],
   "source": [
    "df = pd.read_csv('nyc-rolling-sales.csv')"
   ]
  },
  {
   "cell_type": "code",
   "execution_count": 3,
   "id": "86ef6a05",
   "metadata": {},
   "outputs": [
    {
     "data": {
      "text/html": [
       "<div>\n",
       "<style scoped>\n",
       "    .dataframe tbody tr th:only-of-type {\n",
       "        vertical-align: middle;\n",
       "    }\n",
       "\n",
       "    .dataframe tbody tr th {\n",
       "        vertical-align: top;\n",
       "    }\n",
       "\n",
       "    .dataframe thead th {\n",
       "        text-align: right;\n",
       "    }\n",
       "</style>\n",
       "<table border=\"1\" class=\"dataframe\">\n",
       "  <thead>\n",
       "    <tr style=\"text-align: right;\">\n",
       "      <th></th>\n",
       "      <th>Unnamed: 0</th>\n",
       "      <th>BOROUGH</th>\n",
       "      <th>NEIGHBORHOOD</th>\n",
       "      <th>BUILDING CLASS CATEGORY</th>\n",
       "      <th>TAX CLASS AT PRESENT</th>\n",
       "      <th>BLOCK</th>\n",
       "      <th>LOT</th>\n",
       "      <th>EASE-MENT</th>\n",
       "      <th>BUILDING CLASS AT PRESENT</th>\n",
       "      <th>ADDRESS</th>\n",
       "      <th>...</th>\n",
       "      <th>RESIDENTIAL UNITS</th>\n",
       "      <th>COMMERCIAL UNITS</th>\n",
       "      <th>TOTAL UNITS</th>\n",
       "      <th>LAND SQUARE FEET</th>\n",
       "      <th>GROSS SQUARE FEET</th>\n",
       "      <th>YEAR BUILT</th>\n",
       "      <th>TAX CLASS AT TIME OF SALE</th>\n",
       "      <th>BUILDING CLASS AT TIME OF SALE</th>\n",
       "      <th>SALE PRICE</th>\n",
       "      <th>SALE DATE</th>\n",
       "    </tr>\n",
       "  </thead>\n",
       "  <tbody>\n",
       "    <tr>\n",
       "      <th>0</th>\n",
       "      <td>4</td>\n",
       "      <td>1</td>\n",
       "      <td>ALPHABET CITY</td>\n",
       "      <td>07 RENTALS - WALKUP APARTMENTS</td>\n",
       "      <td>2A</td>\n",
       "      <td>392</td>\n",
       "      <td>6</td>\n",
       "      <td></td>\n",
       "      <td>C2</td>\n",
       "      <td>153 AVENUE B</td>\n",
       "      <td>...</td>\n",
       "      <td>5</td>\n",
       "      <td>0</td>\n",
       "      <td>5</td>\n",
       "      <td>1633</td>\n",
       "      <td>6440</td>\n",
       "      <td>1900</td>\n",
       "      <td>2</td>\n",
       "      <td>C2</td>\n",
       "      <td>6625000</td>\n",
       "      <td>2017-07-19 00:00:00</td>\n",
       "    </tr>\n",
       "    <tr>\n",
       "      <th>1</th>\n",
       "      <td>5</td>\n",
       "      <td>1</td>\n",
       "      <td>ALPHABET CITY</td>\n",
       "      <td>07 RENTALS - WALKUP APARTMENTS</td>\n",
       "      <td>2</td>\n",
       "      <td>399</td>\n",
       "      <td>26</td>\n",
       "      <td></td>\n",
       "      <td>C7</td>\n",
       "      <td>234 EAST 4TH   STREET</td>\n",
       "      <td>...</td>\n",
       "      <td>28</td>\n",
       "      <td>3</td>\n",
       "      <td>31</td>\n",
       "      <td>4616</td>\n",
       "      <td>18690</td>\n",
       "      <td>1900</td>\n",
       "      <td>2</td>\n",
       "      <td>C7</td>\n",
       "      <td>-</td>\n",
       "      <td>2016-12-14 00:00:00</td>\n",
       "    </tr>\n",
       "    <tr>\n",
       "      <th>2</th>\n",
       "      <td>6</td>\n",
       "      <td>1</td>\n",
       "      <td>ALPHABET CITY</td>\n",
       "      <td>07 RENTALS - WALKUP APARTMENTS</td>\n",
       "      <td>2</td>\n",
       "      <td>399</td>\n",
       "      <td>39</td>\n",
       "      <td></td>\n",
       "      <td>C7</td>\n",
       "      <td>197 EAST 3RD   STREET</td>\n",
       "      <td>...</td>\n",
       "      <td>16</td>\n",
       "      <td>1</td>\n",
       "      <td>17</td>\n",
       "      <td>2212</td>\n",
       "      <td>7803</td>\n",
       "      <td>1900</td>\n",
       "      <td>2</td>\n",
       "      <td>C7</td>\n",
       "      <td>-</td>\n",
       "      <td>2016-12-09 00:00:00</td>\n",
       "    </tr>\n",
       "    <tr>\n",
       "      <th>3</th>\n",
       "      <td>7</td>\n",
       "      <td>1</td>\n",
       "      <td>ALPHABET CITY</td>\n",
       "      <td>07 RENTALS - WALKUP APARTMENTS</td>\n",
       "      <td>2B</td>\n",
       "      <td>402</td>\n",
       "      <td>21</td>\n",
       "      <td></td>\n",
       "      <td>C4</td>\n",
       "      <td>154 EAST 7TH STREET</td>\n",
       "      <td>...</td>\n",
       "      <td>10</td>\n",
       "      <td>0</td>\n",
       "      <td>10</td>\n",
       "      <td>2272</td>\n",
       "      <td>6794</td>\n",
       "      <td>1913</td>\n",
       "      <td>2</td>\n",
       "      <td>C4</td>\n",
       "      <td>3936272</td>\n",
       "      <td>2016-09-23 00:00:00</td>\n",
       "    </tr>\n",
       "    <tr>\n",
       "      <th>4</th>\n",
       "      <td>8</td>\n",
       "      <td>1</td>\n",
       "      <td>ALPHABET CITY</td>\n",
       "      <td>07 RENTALS - WALKUP APARTMENTS</td>\n",
       "      <td>2A</td>\n",
       "      <td>404</td>\n",
       "      <td>55</td>\n",
       "      <td></td>\n",
       "      <td>C2</td>\n",
       "      <td>301 EAST 10TH   STREET</td>\n",
       "      <td>...</td>\n",
       "      <td>6</td>\n",
       "      <td>0</td>\n",
       "      <td>6</td>\n",
       "      <td>2369</td>\n",
       "      <td>4615</td>\n",
       "      <td>1900</td>\n",
       "      <td>2</td>\n",
       "      <td>C2</td>\n",
       "      <td>8000000</td>\n",
       "      <td>2016-11-17 00:00:00</td>\n",
       "    </tr>\n",
       "  </tbody>\n",
       "</table>\n",
       "<p>5 rows × 22 columns</p>\n",
       "</div>"
      ],
      "text/plain": [
       "   Unnamed: 0  BOROUGH   NEIGHBORHOOD  \\\n",
       "0           4        1  ALPHABET CITY   \n",
       "1           5        1  ALPHABET CITY   \n",
       "2           6        1  ALPHABET CITY   \n",
       "3           7        1  ALPHABET CITY   \n",
       "4           8        1  ALPHABET CITY   \n",
       "\n",
       "                       BUILDING CLASS CATEGORY TAX CLASS AT PRESENT  BLOCK  \\\n",
       "0  07 RENTALS - WALKUP APARTMENTS                                2A    392   \n",
       "1  07 RENTALS - WALKUP APARTMENTS                                 2    399   \n",
       "2  07 RENTALS - WALKUP APARTMENTS                                 2    399   \n",
       "3  07 RENTALS - WALKUP APARTMENTS                                2B    402   \n",
       "4  07 RENTALS - WALKUP APARTMENTS                                2A    404   \n",
       "\n",
       "   LOT EASE-MENT BUILDING CLASS AT PRESENT                 ADDRESS  ...  \\\n",
       "0    6                                  C2            153 AVENUE B  ...   \n",
       "1   26                                  C7   234 EAST 4TH   STREET  ...   \n",
       "2   39                                  C7   197 EAST 3RD   STREET  ...   \n",
       "3   21                                  C4     154 EAST 7TH STREET  ...   \n",
       "4   55                                  C2  301 EAST 10TH   STREET  ...   \n",
       "\n",
       "  RESIDENTIAL UNITS  COMMERCIAL UNITS  TOTAL UNITS  LAND SQUARE FEET  \\\n",
       "0                 5                 0            5              1633   \n",
       "1                28                 3           31              4616   \n",
       "2                16                 1           17              2212   \n",
       "3                10                 0           10              2272   \n",
       "4                 6                 0            6              2369   \n",
       "\n",
       "   GROSS SQUARE FEET YEAR BUILT TAX CLASS AT TIME OF SALE  \\\n",
       "0               6440       1900                         2   \n",
       "1              18690       1900                         2   \n",
       "2               7803       1900                         2   \n",
       "3               6794       1913                         2   \n",
       "4               4615       1900                         2   \n",
       "\n",
       "   BUILDING CLASS AT TIME OF SALE  SALE PRICE            SALE DATE  \n",
       "0                              C2     6625000  2017-07-19 00:00:00  \n",
       "1                              C7         -    2016-12-14 00:00:00  \n",
       "2                              C7         -    2016-12-09 00:00:00  \n",
       "3                              C4     3936272  2016-09-23 00:00:00  \n",
       "4                              C2     8000000  2016-11-17 00:00:00  \n",
       "\n",
       "[5 rows x 22 columns]"
      ]
     },
     "execution_count": 3,
     "metadata": {},
     "output_type": "execute_result"
    }
   ],
   "source": [
    "df.head()"
   ]
  },
  {
   "cell_type": "code",
   "execution_count": 4,
   "id": "42923294",
   "metadata": {},
   "outputs": [
    {
     "data": {
      "text/plain": [
       "(84548, 22)"
      ]
     },
     "execution_count": 4,
     "metadata": {},
     "output_type": "execute_result"
    }
   ],
   "source": [
    "df.shape"
   ]
  },
  {
   "cell_type": "code",
   "execution_count": 5,
   "id": "371fac9a",
   "metadata": {},
   "outputs": [
    {
     "name": "stdout",
     "output_type": "stream",
     "text": [
      "<class 'pandas.core.frame.DataFrame'>\n",
      "RangeIndex: 84548 entries, 0 to 84547\n",
      "Data columns (total 22 columns):\n",
      " #   Column                          Non-Null Count  Dtype \n",
      "---  ------                          --------------  ----- \n",
      " 0   Unnamed: 0                      84548 non-null  int64 \n",
      " 1   BOROUGH                         84548 non-null  int64 \n",
      " 2   NEIGHBORHOOD                    84548 non-null  object\n",
      " 3   BUILDING CLASS CATEGORY         84548 non-null  object\n",
      " 4   TAX CLASS AT PRESENT            84548 non-null  object\n",
      " 5   BLOCK                           84548 non-null  int64 \n",
      " 6   LOT                             84548 non-null  int64 \n",
      " 7   EASE-MENT                       84548 non-null  object\n",
      " 8   BUILDING CLASS AT PRESENT       84548 non-null  object\n",
      " 9   ADDRESS                         84548 non-null  object\n",
      " 10  APARTMENT NUMBER                84548 non-null  object\n",
      " 11  ZIP CODE                        84548 non-null  int64 \n",
      " 12  RESIDENTIAL UNITS               84548 non-null  int64 \n",
      " 13  COMMERCIAL UNITS                84548 non-null  int64 \n",
      " 14  TOTAL UNITS                     84548 non-null  int64 \n",
      " 15  LAND SQUARE FEET                84548 non-null  object\n",
      " 16  GROSS SQUARE FEET               84548 non-null  object\n",
      " 17  YEAR BUILT                      84548 non-null  int64 \n",
      " 18  TAX CLASS AT TIME OF SALE       84548 non-null  int64 \n",
      " 19  BUILDING CLASS AT TIME OF SALE  84548 non-null  object\n",
      " 20  SALE PRICE                      84548 non-null  object\n",
      " 21  SALE DATE                       84548 non-null  object\n",
      "dtypes: int64(10), object(12)\n",
      "memory usage: 14.2+ MB\n"
     ]
    }
   ],
   "source": [
    "df.info()"
   ]
  },
  {
   "cell_type": "code",
   "execution_count": 6,
   "id": "ddf6dbe5",
   "metadata": {},
   "outputs": [],
   "source": [
    "df.drop(['Unnamed: 0','EASE-MENT'], axis=1, inplace=True)"
   ]
  },
  {
   "cell_type": "code",
   "execution_count": 7,
   "id": "deeaf073",
   "metadata": {},
   "outputs": [],
   "source": [
    "df['BOROUGH'] = df.BOROUGH.replace({1:'Manhattan', 2:'Bronx', 3:'Brooklyn', 4:'Queens', 5:'Staten Island'})"
   ]
  },
  {
   "cell_type": "code",
   "execution_count": 8,
   "id": "dbe3fb5e",
   "metadata": {},
   "outputs": [],
   "source": [
    "df['SALE YEAR'] = pd.DatetimeIndex(df['SALE DATE']).year\n",
    "df['SALE MONTH'] = pd.DatetimeIndex(df['SALE DATE']).month_name()"
   ]
  },
  {
   "cell_type": "code",
   "execution_count": 9,
   "id": "c39e2e5e",
   "metadata": {},
   "outputs": [],
   "source": [
    "df['SALE DATE'] = pd.to_datetime(df['SALE DATE'], errors='coerce')\n",
    "df['SALE PRICE'] = pd.to_numeric(df['SALE PRICE'], errors='coerce')\n",
    "df['LAND SQUARE FEET'] = pd.to_numeric(df['LAND SQUARE FEET'], errors='coerce')\n",
    "df['GROSS SQUARE FEET']= pd.to_numeric(df['GROSS SQUARE FEET'], errors='coerce')\n",
    "df['TAX CLASS AT TIME OF SALE'] = df['TAX CLASS AT TIME OF SALE'].astype('category')\n",
    "df['TAX CLASS AT PRESENT'] = df['TAX CLASS AT PRESENT'].astype('category')\n",
    "df['BOROUGH'] = df['BOROUGH'].astype('category')"
   ]
  },
  {
   "cell_type": "code",
   "execution_count": 10,
   "id": "887f20ba",
   "metadata": {},
   "outputs": [
    {
     "data": {
      "text/plain": [
       "765"
      ]
     },
     "execution_count": 10,
     "metadata": {},
     "output_type": "execute_result"
    }
   ],
   "source": [
    "sum(df.duplicated(df.columns))"
   ]
  },
  {
   "cell_type": "code",
   "execution_count": 11,
   "id": "d98e7bce",
   "metadata": {},
   "outputs": [
    {
     "data": {
      "text/plain": [
       "0"
      ]
     },
     "execution_count": 11,
     "metadata": {},
     "output_type": "execute_result"
    }
   ],
   "source": [
    "df = df.drop_duplicates(df.columns, keep='last')\n",
    "sum(df.duplicated(df.columns))"
   ]
  },
  {
   "cell_type": "code",
   "execution_count": 18,
   "id": "df369376",
   "metadata": {},
   "outputs": [
    {
     "name": "stdout",
     "output_type": "stream",
     "text": [
      "<class 'pandas.core.frame.DataFrame'>\n",
      "Int64Index: 83783 entries, 0 to 84547\n",
      "Data columns (total 22 columns):\n",
      " #   Column                          Non-Null Count  Dtype         \n",
      "---  ------                          --------------  -----         \n",
      " 0   BOROUGH                         83783 non-null  category      \n",
      " 1   NEIGHBORHOOD                    83783 non-null  object        \n",
      " 2   BUILDING CLASS CATEGORY         83783 non-null  object        \n",
      " 3   TAX CLASS AT PRESENT            83783 non-null  category      \n",
      " 4   BLOCK                           83783 non-null  int64         \n",
      " 5   LOT                             83783 non-null  int64         \n",
      " 6   BUILDING CLASS AT PRESENT       83783 non-null  object        \n",
      " 7   ADDRESS                         83783 non-null  object        \n",
      " 8   APARTMENT NUMBER                83783 non-null  object        \n",
      " 9   ZIP CODE                        83783 non-null  int64         \n",
      " 10  RESIDENTIAL UNITS               83783 non-null  int64         \n",
      " 11  COMMERCIAL UNITS                83783 non-null  int64         \n",
      " 12  TOTAL UNITS                     83783 non-null  int64         \n",
      " 13  LAND SQUARE FEET                83783 non-null  float64       \n",
      " 14  GROSS SQUARE FEET               83783 non-null  float64       \n",
      " 15  YEAR BUILT                      83783 non-null  int64         \n",
      " 16  TAX CLASS AT TIME OF SALE       83783 non-null  category      \n",
      " 17  BUILDING CLASS AT TIME OF SALE  83783 non-null  object        \n",
      " 18  SALE PRICE                      69607 non-null  float64       \n",
      " 19  SALE DATE                       83783 non-null  datetime64[ns]\n",
      " 20  SALE YEAR                       83783 non-null  int64         \n",
      " 21  SALE MONTH                      83783 non-null  object        \n",
      "dtypes: category(3), datetime64[ns](1), float64(3), int64(8), object(7)\n",
      "memory usage: 13.0+ MB\n"
     ]
    }
   ],
   "source": [
    "df.info()"
   ]
  },
  {
   "cell_type": "code",
   "execution_count": 13,
   "id": "d2550dd4",
   "metadata": {},
   "outputs": [
    {
     "data": {
      "text/plain": [
       "Index(['LAND SQUARE FEET', 'GROSS SQUARE FEET', 'SALE PRICE'], dtype='object')"
      ]
     },
     "execution_count": 13,
     "metadata": {},
     "output_type": "execute_result"
    }
   ],
   "source": [
    "df.columns[df.isnull().any()]"
   ]
  },
  {
   "cell_type": "code",
   "execution_count": 14,
   "id": "5e320333",
   "metadata": {},
   "outputs": [],
   "source": [
    "df['LAND SQUARE FEET']=df['LAND SQUARE FEET'].fillna(df['LAND SQUARE FEET'].mean())\n",
    "df['GROSS SQUARE FEET']=df['GROSS SQUARE FEET'].fillna(df['GROSS SQUARE FEET'].mean())"
   ]
  },
  {
   "cell_type": "code",
   "execution_count": 19,
   "id": "d03d9db2",
   "metadata": {},
   "outputs": [],
   "source": [
    "data = df[df['SALE PRICE'].notnull()]"
   ]
  },
  {
   "cell_type": "code",
   "execution_count": 20,
   "id": "667d6b8c",
   "metadata": {},
   "outputs": [
    {
     "ename": "SyntaxError",
     "evalue": "invalid syntax (3788702553.py, line 1)",
     "output_type": "error",
     "traceback": [
      "\u001b[1;36m  File \u001b[1;32m\"C:\\Users\\ASUS\\AppData\\Local\\Temp\\ipykernel_16024\\3788702553.py\"\u001b[1;36m, line \u001b[1;32m1\u001b[0m\n\u001b[1;33m    print(data.shape)data.head(10)\u001b[0m\n\u001b[1;37m                     ^\u001b[0m\n\u001b[1;31mSyntaxError\u001b[0m\u001b[1;31m:\u001b[0m invalid syntax\n"
     ]
    }
   ],
   "source": [
    "print(data.shape)data.head(10)"
   ]
  },
  {
   "cell_type": "code",
   "execution_count": 21,
   "id": "406b8147",
   "metadata": {},
   "outputs": [
    {
     "data": {
      "text/plain": [
       "Text(0.5, 1.0, 'Correlation Heatmap')"
      ]
     },
     "execution_count": 21,
     "metadata": {},
     "output_type": "execute_result"
    },
    {
     "data": {
      "image/png": "[encoded data removed]",
      "text/plain": [
       "<Figure size 1500x1000 with 2 Axes>"
      ]
     },
     "metadata": {},
     "output_type": "display_data"
    }
   ],
   "source": [
    "corr = data.corr()\n",
    "fig, ax = plt.subplots(figsize=(15,10))\n",
    "ax = sns.heatmap(corr, linewidth=0.3, annot=True,)\n",
    "ax.set_title('Correlation Heatmap', fontdict={'fontsize':10}, pad=12)"
   ]
  },
  {
   "cell_type": "code",
   "execution_count": 22,
   "id": "9f888e14",
   "metadata": {},
   "outputs": [
    {
     "data": {
      "text/html": [
       "<div>\n",
       "<style scoped>\n",
       "    .dataframe tbody tr th:only-of-type {\n",
       "        vertical-align: middle;\n",
       "    }\n",
       "\n",
       "    .dataframe tbody tr th {\n",
       "        vertical-align: top;\n",
       "    }\n",
       "\n",
       "    .dataframe thead th {\n",
       "        text-align: right;\n",
       "    }\n",
       "</style>\n",
       "<table border=\"1\" class=\"dataframe\">\n",
       "  <thead>\n",
       "    <tr style=\"text-align: right;\">\n",
       "      <th></th>\n",
       "      <th>BLOCK</th>\n",
       "      <th>LOT</th>\n",
       "      <th>ZIP CODE</th>\n",
       "      <th>RESIDENTIAL UNITS</th>\n",
       "      <th>COMMERCIAL UNITS</th>\n",
       "      <th>TOTAL UNITS</th>\n",
       "      <th>LAND SQUARE FEET</th>\n",
       "      <th>GROSS SQUARE FEET</th>\n",
       "      <th>YEAR BUILT</th>\n",
       "      <th>SALE PRICE</th>\n",
       "      <th>SALE YEAR</th>\n",
       "    </tr>\n",
       "  </thead>\n",
       "  <tbody>\n",
       "    <tr>\n",
       "      <th>count</th>\n",
       "      <td>69607.000000</td>\n",
       "      <td>69607.000000</td>\n",
       "      <td>69607.000000</td>\n",
       "      <td>69607.000000</td>\n",
       "      <td>69607.000000</td>\n",
       "      <td>69607.000000</td>\n",
       "      <td>6.960700e+04</td>\n",
       "      <td>6.960700e+04</td>\n",
       "      <td>69607.000000</td>\n",
       "      <td>6.960700e+04</td>\n",
       "      <td>69607.000000</td>\n",
       "    </tr>\n",
       "    <tr>\n",
       "      <th>mean</th>\n",
       "      <td>4199.890140</td>\n",
       "      <td>374.580473</td>\n",
       "      <td>10741.159323</td>\n",
       "      <td>1.875070</td>\n",
       "      <td>0.164121</td>\n",
       "      <td>2.059319</td>\n",
       "      <td>3.638934e+03</td>\n",
       "      <td>3.642753e+03</td>\n",
       "      <td>1799.852184</td>\n",
       "      <td>1.280703e+06</td>\n",
       "      <td>2016.655293</td>\n",
       "    </tr>\n",
       "    <tr>\n",
       "      <th>std</th>\n",
       "      <td>3431.897518</td>\n",
       "      <td>656.232024</td>\n",
       "      <td>1264.804508</td>\n",
       "      <td>14.291398</td>\n",
       "      <td>8.997236</td>\n",
       "      <td>16.992716</td>\n",
       "      <td>3.315376e+04</td>\n",
       "      <td>2.422798e+04</td>\n",
       "      <td>520.099311</td>\n",
       "      <td>1.143036e+07</td>\n",
       "      <td>0.475276</td>\n",
       "    </tr>\n",
       "    <tr>\n",
       "      <th>min</th>\n",
       "      <td>1.000000</td>\n",
       "      <td>1.000000</td>\n",
       "      <td>0.000000</td>\n",
       "      <td>0.000000</td>\n",
       "      <td>0.000000</td>\n",
       "      <td>0.000000</td>\n",
       "      <td>0.000000e+00</td>\n",
       "      <td>0.000000e+00</td>\n",
       "      <td>0.000000</td>\n",
       "      <td>0.000000e+00</td>\n",
       "      <td>2016.000000</td>\n",
       "    </tr>\n",
       "    <tr>\n",
       "      <th>25%</th>\n",
       "      <td>1350.000000</td>\n",
       "      <td>22.000000</td>\n",
       "      <td>10306.000000</td>\n",
       "      <td>0.000000</td>\n",
       "      <td>0.000000</td>\n",
       "      <td>0.000000</td>\n",
       "      <td>1.900000e+03</td>\n",
       "      <td>1.266000e+03</td>\n",
       "      <td>1920.000000</td>\n",
       "      <td>2.300000e+05</td>\n",
       "      <td>2016.000000</td>\n",
       "    </tr>\n",
       "    <tr>\n",
       "      <th>50%</th>\n",
       "      <td>3378.000000</td>\n",
       "      <td>50.000000</td>\n",
       "      <td>11209.000000</td>\n",
       "      <td>1.000000</td>\n",
       "      <td>0.000000</td>\n",
       "      <td>1.000000</td>\n",
       "      <td>2.945000e+03</td>\n",
       "      <td>2.400000e+03</td>\n",
       "      <td>1938.000000</td>\n",
       "      <td>5.330000e+05</td>\n",
       "      <td>2017.000000</td>\n",
       "    </tr>\n",
       "    <tr>\n",
       "      <th>75%</th>\n",
       "      <td>6192.000000</td>\n",
       "      <td>820.000000</td>\n",
       "      <td>11249.000000</td>\n",
       "      <td>2.000000</td>\n",
       "      <td>0.000000</td>\n",
       "      <td>2.000000</td>\n",
       "      <td>3.854481e+03</td>\n",
       "      <td>3.894416e+03</td>\n",
       "      <td>1965.000000</td>\n",
       "      <td>9.500000e+05</td>\n",
       "      <td>2017.000000</td>\n",
       "    </tr>\n",
       "    <tr>\n",
       "      <th>max</th>\n",
       "      <td>16319.000000</td>\n",
       "      <td>9106.000000</td>\n",
       "      <td>11694.000000</td>\n",
       "      <td>1844.000000</td>\n",
       "      <td>2261.000000</td>\n",
       "      <td>2261.000000</td>\n",
       "      <td>4.252327e+06</td>\n",
       "      <td>3.750565e+06</td>\n",
       "      <td>2017.000000</td>\n",
       "      <td>2.210000e+09</td>\n",
       "      <td>2017.000000</td>\n",
       "    </tr>\n",
       "  </tbody>\n",
       "</table>\n",
       "</div>"
      ],
      "text/plain": [
       "              BLOCK           LOT      ZIP CODE  RESIDENTIAL UNITS  \\\n",
       "count  69607.000000  69607.000000  69607.000000       69607.000000   \n",
       "mean    4199.890140    374.580473  10741.159323           1.875070   \n",
       "std     3431.897518    656.232024   1264.804508          14.291398   \n",
       "min        1.000000      1.000000      0.000000           0.000000   \n",
       "25%     1350.000000     22.000000  10306.000000           0.000000   \n",
       "50%     3378.000000     50.000000  11209.000000           1.000000   \n",
       "75%     6192.000000    820.000000  11249.000000           2.000000   \n",
       "max    16319.000000   9106.000000  11694.000000        1844.000000   \n",
       "\n",
       "       COMMERCIAL UNITS   TOTAL UNITS  LAND SQUARE FEET  GROSS SQUARE FEET  \\\n",
       "count      69607.000000  69607.000000      6.960700e+04       6.960700e+04   \n",
       "mean           0.164121      2.059319      3.638934e+03       3.642753e+03   \n",
       "std            8.997236     16.992716      3.315376e+04       2.422798e+04   \n",
       "min            0.000000      0.000000      0.000000e+00       0.000000e+00   \n",
       "25%            0.000000      0.000000      1.900000e+03       1.266000e+03   \n",
       "50%            0.000000      1.000000      2.945000e+03       2.400000e+03   \n",
       "75%            0.000000      2.000000      3.854481e+03       3.894416e+03   \n",
       "max         2261.000000   2261.000000      4.252327e+06       3.750565e+06   \n",
       "\n",
       "         YEAR BUILT    SALE PRICE     SALE YEAR  \n",
       "count  69607.000000  6.960700e+04  69607.000000  \n",
       "mean    1799.852184  1.280703e+06   2016.655293  \n",
       "std      520.099311  1.143036e+07      0.475276  \n",
       "min        0.000000  0.000000e+00   2016.000000  \n",
       "25%     1920.000000  2.300000e+05   2016.000000  \n",
       "50%     1938.000000  5.330000e+05   2017.000000  \n",
       "75%     1965.000000  9.500000e+05   2017.000000  \n",
       "max     2017.000000  2.210000e+09   2017.000000  "
      ]
     },
     "execution_count": 22,
     "metadata": {},
     "output_type": "execute_result"
    }
   ],
   "source": [
    "data.describe()"
   ]
  },
  {
   "cell_type": "code",
   "execution_count": 23,
   "id": "34d8fe4e",
   "metadata": {},
   "outputs": [
    {
     "data": {
      "image/png": "[encoded data removed]",
      "text/plain": [
       "<Figure size 1500x600 with 1 Axes>"
      ]
     },
     "metadata": {},
     "output_type": "display_data"
    }
   ],
   "source": [
    "plt.figure(figsize=(15,6))\n",
    "\n",
    "sns.boxplot(x='SALE PRICE', data=data)\n",
    "plt.ticklabel_format(style='plain', axis='x')\n",
    "plt.title('Boxplot of SALE PRICE in USD')\n",
    "plt.show()"
   ]
  },
  {
   "cell_type": "code",
   "execution_count": 24,
   "id": "da88e582",
   "metadata": {},
   "outputs": [
    {
     "data": {
      "image/png": "[encoded data removed]",
      "text/plain": [
       "<Figure size 1000x600 with 1 Axes>"
      ]
     },
     "metadata": {},
     "output_type": "display_data"
    }
   ],
   "source": [
    "plt.figure(figsize=(10,6))\n",
    "sns.boxplot(x='GROSS SQUARE FEET', data=data, showfliers=False)\n",
    "plt.ticklabel_format(style='plain', axis='x')\n",
    "plt.title('Boxplot of Gross Square Feet')\n",
    "plt.show()"
   ]
  },
  {
   "cell_type": "code",
   "execution_count": 25,
   "id": "bd511918",
   "metadata": {},
   "outputs": [
    {
     "data": {
      "text/plain": [
       "Text(0.5, 1.0, 'Boxplot of Land Square Feet')"
      ]
     },
     "execution_count": 25,
     "metadata": {},
     "output_type": "execute_result"
    },
    {
     "data": {
      "image/png": "[encoded data removed]",
      "text/plain": [
       "<Figure size 1000x600 with 1 Axes>"
      ]
     },
     "metadata": {},
     "output_type": "display_data"
    }
   ],
   "source": [
    "plt.figure(figsize=(10,6))\n",
    "sns.boxplot(x='LAND SQUARE FEET', data=data,showfliers=False)\n",
    "plt.ticklabel_format(style='plain', axis='x')\n",
    "plt.title('Boxplot of Land Square Feet')"
   ]
  },
  {
   "cell_type": "code",
   "execution_count": 26,
   "id": "7eeec7f9",
   "metadata": {},
   "outputs": [],
   "source": [
    "data = data[data['GROSS SQUARE FEET'] < 10000]\n",
    "data = data[data['LAND SQUARE FEET'] < 10000]"
   ]
  },
  {
   "cell_type": "code",
   "execution_count": 27,
   "id": "8b37bdb5",
   "metadata": {},
   "outputs": [
    {
     "data": {
      "text/plain": [
       "(67563, 22)"
      ]
     },
     "execution_count": 27,
     "metadata": {},
     "output_type": "execute_result"
    }
   ],
   "source": [
    "data.shape"
   ]
  },
  {
   "cell_type": "code",
   "execution_count": 28,
   "id": "c5bfb971",
   "metadata": {},
   "outputs": [
    {
     "name": "stdout",
     "output_type": "stream",
     "text": [
      "Mean of Sale Price: 946763.8596569129\n",
      "Mean of Land Square Feet: 2719.8356477205234\n",
      "Mean of Gross Square Feet: 2405.7598713054076\n"
     ]
    }
   ],
   "source": [
    "SalePrice_mean = np.mean(data['SALE PRICE'], axis=0)\n",
    "LandSqrFeet_mean = np.mean(data[\"LAND SQUARE FEET\"], axis=0)\n",
    "GrossSqrFeet_mean = np.mean(data[\"GROSS SQUARE FEET\"], axis=0)\n",
    "\n",
    "print(\"Mean of Sale Price:\", SalePrice_mean)\n",
    "print(\"Mean of Land Square Feet:\", LandSqrFeet_mean)\n",
    "print(\"Mean of Gross Square Feet:\", GrossSqrFeet_mean)"
   ]
  },
  {
   "cell_type": "code",
   "execution_count": 29,
   "id": "36f9e1c6",
   "metadata": {},
   "outputs": [
    {
     "data": {
      "text/html": [
       "<div>\n",
       "<style scoped>\n",
       "    .dataframe tbody tr th:only-of-type {\n",
       "        vertical-align: middle;\n",
       "    }\n",
       "\n",
       "    .dataframe tbody tr th {\n",
       "        vertical-align: top;\n",
       "    }\n",
       "\n",
       "    .dataframe thead th {\n",
       "        text-align: right;\n",
       "    }\n",
       "</style>\n",
       "<table border=\"1\" class=\"dataframe\">\n",
       "  <thead>\n",
       "    <tr style=\"text-align: right;\">\n",
       "      <th></th>\n",
       "      <th></th>\n",
       "      <th>TOTAL UNITS</th>\n",
       "      <th>SALE PRICE</th>\n",
       "    </tr>\n",
       "    <tr>\n",
       "      <th>SALE YEAR</th>\n",
       "      <th>SALE MONTH</th>\n",
       "      <th></th>\n",
       "      <th></th>\n",
       "    </tr>\n",
       "  </thead>\n",
       "  <tbody>\n",
       "    <tr>\n",
       "      <th rowspan=\"4\" valign=\"top\">2016</th>\n",
       "      <th>December</th>\n",
       "      <td>1.418451</td>\n",
       "      <td>9.494030e+05</td>\n",
       "    </tr>\n",
       "    <tr>\n",
       "      <th>November</th>\n",
       "      <td>1.323471</td>\n",
       "      <td>8.529589e+05</td>\n",
       "    </tr>\n",
       "    <tr>\n",
       "      <th>October</th>\n",
       "      <td>1.716938</td>\n",
       "      <td>8.672530e+05</td>\n",
       "    </tr>\n",
       "    <tr>\n",
       "      <th>September</th>\n",
       "      <td>1.320104</td>\n",
       "      <td>9.323035e+05</td>\n",
       "    </tr>\n",
       "    <tr>\n",
       "      <th rowspan=\"8\" valign=\"top\">2017</th>\n",
       "      <th>April</th>\n",
       "      <td>1.284418</td>\n",
       "      <td>9.488053e+05</td>\n",
       "    </tr>\n",
       "    <tr>\n",
       "      <th>August</th>\n",
       "      <td>1.127637</td>\n",
       "      <td>1.029399e+06</td>\n",
       "    </tr>\n",
       "    <tr>\n",
       "      <th>February</th>\n",
       "      <td>1.322498</td>\n",
       "      <td>8.854464e+05</td>\n",
       "    </tr>\n",
       "    <tr>\n",
       "      <th>January</th>\n",
       "      <td>1.276483</td>\n",
       "      <td>9.798324e+05</td>\n",
       "    </tr>\n",
       "    <tr>\n",
       "      <th>July</th>\n",
       "      <td>1.221115</td>\n",
       "      <td>9.691051e+05</td>\n",
       "    </tr>\n",
       "    <tr>\n",
       "      <th>June</th>\n",
       "      <td>1.267966</td>\n",
       "      <td>1.029124e+06</td>\n",
       "    </tr>\n",
       "    <tr>\n",
       "      <th>March</th>\n",
       "      <td>1.297664</td>\n",
       "      <td>9.573256e+05</td>\n",
       "    </tr>\n",
       "    <tr>\n",
       "      <th>May</th>\n",
       "      <td>1.256397</td>\n",
       "      <td>9.470762e+05</td>\n",
       "    </tr>\n",
       "  </tbody>\n",
       "</table>\n",
       "</div>"
      ],
      "text/plain": [
       "                      TOTAL UNITS    SALE PRICE\n",
       "SALE YEAR SALE MONTH                           \n",
       "2016      December       1.418451  9.494030e+05\n",
       "          November       1.323471  8.529589e+05\n",
       "          October        1.716938  8.672530e+05\n",
       "          September      1.320104  9.323035e+05\n",
       "2017      April          1.284418  9.488053e+05\n",
       "          August         1.127637  1.029399e+06\n",
       "          February       1.322498  8.854464e+05\n",
       "          January        1.276483  9.798324e+05\n",
       "          July           1.221115  9.691051e+05\n",
       "          June           1.267966  1.029124e+06\n",
       "          March          1.297664  9.573256e+05\n",
       "          May            1.256397  9.470762e+05"
      ]
     },
     "execution_count": 29,
     "metadata": {},
     "output_type": "execute_result"
    }
   ],
   "source": [
    "df_mean1 = data.groupby([\"SALE YEAR\", \"SALE MONTH\"])[['TOTAL UNITS', 'SALE PRICE']].mean()\n",
    "df_mean1"
   ]
  },
  {
   "cell_type": "code",
   "execution_count": 30,
   "id": "1adb7d17",
   "metadata": {},
   "outputs": [
    {
     "data": {
      "text/html": [
       "<div>\n",
       "<style scoped>\n",
       "    .dataframe tbody tr th:only-of-type {\n",
       "        vertical-align: middle;\n",
       "    }\n",
       "\n",
       "    .dataframe tbody tr th {\n",
       "        vertical-align: top;\n",
       "    }\n",
       "\n",
       "    .dataframe thead th {\n",
       "        text-align: right;\n",
       "    }\n",
       "</style>\n",
       "<table border=\"1\" class=\"dataframe\">\n",
       "  <thead>\n",
       "    <tr style=\"text-align: right;\">\n",
       "      <th></th>\n",
       "      <th>TOTAL UNITS</th>\n",
       "      <th>LAND SQUARE FEET</th>\n",
       "      <th>GROSS SQUARE FEET</th>\n",
       "      <th>SALE PRICE</th>\n",
       "    </tr>\n",
       "    <tr>\n",
       "      <th>BOROUGH</th>\n",
       "      <th></th>\n",
       "      <th></th>\n",
       "      <th></th>\n",
       "      <th></th>\n",
       "    </tr>\n",
       "  </thead>\n",
       "  <tbody>\n",
       "    <tr>\n",
       "      <th>Manhattan</th>\n",
       "      <td>0.685720</td>\n",
       "      <td>3776.299759</td>\n",
       "      <td>3944.432255</td>\n",
       "      <td>2.361377e+06</td>\n",
       "    </tr>\n",
       "    <tr>\n",
       "      <th>Brooklyn</th>\n",
       "      <td>1.710378</td>\n",
       "      <td>1504.881790</td>\n",
       "      <td>1573.451730</td>\n",
       "      <td>6.542181e+05</td>\n",
       "    </tr>\n",
       "    <tr>\n",
       "      <th>Queens</th>\n",
       "      <td>1.234850</td>\n",
       "      <td>3413.427187</td>\n",
       "      <td>2671.218734</td>\n",
       "      <td>6.028922e+05</td>\n",
       "    </tr>\n",
       "    <tr>\n",
       "      <th>Staten Island</th>\n",
       "      <td>1.242684</td>\n",
       "      <td>3570.891151</td>\n",
       "      <td>2031.243629</td>\n",
       "      <td>4.683261e+05</td>\n",
       "    </tr>\n",
       "    <tr>\n",
       "      <th>Bronx</th>\n",
       "      <td>1.596784</td>\n",
       "      <td>2107.310720</td>\n",
       "      <td>1660.901378</td>\n",
       "      <td>3.317502e+05</td>\n",
       "    </tr>\n",
       "  </tbody>\n",
       "</table>\n",
       "</div>"
      ],
      "text/plain": [
       "               TOTAL UNITS  LAND SQUARE FEET  GROSS SQUARE FEET    SALE PRICE\n",
       "BOROUGH                                                                      \n",
       "Manhattan         0.685720       3776.299759        3944.432255  2.361377e+06\n",
       "Brooklyn          1.710378       1504.881790        1573.451730  6.542181e+05\n",
       "Queens            1.234850       3413.427187        2671.218734  6.028922e+05\n",
       "Staten Island     1.242684       3570.891151        2031.243629  4.683261e+05\n",
       "Bronx             1.596784       2107.310720        1660.901378  3.317502e+05"
      ]
     },
     "execution_count": 30,
     "metadata": {},
     "output_type": "execute_result"
    }
   ],
   "source": [
    "df_mean2 = data.groupby([\"BOROUGH\"])[['TOTAL UNITS', 'LAND SQUARE FEET', 'GROSS SQUARE FEET', 'SALE PRICE']].mean()\n",
    "df_mean2.sort_values([\"SALE PRICE\"], ascending=False, inplace=True)\n",
    "df_mean2"
   ]
  },
  {
   "cell_type": "code",
   "execution_count": 31,
   "id": "c8732276",
   "metadata": {},
   "outputs": [
    {
     "name": "stdout",
     "output_type": "stream",
     "text": [
      "Median of Sale Price: 525500.0\n",
      "Median of Land Square Feet: 2800.0\n",
      "Median of Gross Square Feet: 2323.0\n"
     ]
    }
   ],
   "source": [
    "SalePrice_median = statistics.median(data['SALE PRICE'])\n",
    "LandSqrFeet_median = statistics.median(data[\"LAND SQUARE FEET\"])\n",
    "GrossSqrFeet_median = statistics.median(data[\"GROSS SQUARE FEET\"])\n",
    "\n",
    "print(\"Median of Sale Price:\", SalePrice_median)\n",
    "print(\"Median of Land Square Feet:\", LandSqrFeet_median)\n",
    "print(\"Median of Gross Square Feet:\", GrossSqrFeet_median)"
   ]
  },
  {
   "cell_type": "code",
   "execution_count": 32,
   "id": "52c11761",
   "metadata": {},
   "outputs": [
    {
     "data": {
      "text/html": [
       "<div>\n",
       "<style scoped>\n",
       "    .dataframe tbody tr th:only-of-type {\n",
       "        vertical-align: middle;\n",
       "    }\n",
       "\n",
       "    .dataframe tbody tr th {\n",
       "        vertical-align: top;\n",
       "    }\n",
       "\n",
       "    .dataframe thead th {\n",
       "        text-align: right;\n",
       "    }\n",
       "</style>\n",
       "<table border=\"1\" class=\"dataframe\">\n",
       "  <thead>\n",
       "    <tr style=\"text-align: right;\">\n",
       "      <th></th>\n",
       "      <th></th>\n",
       "      <th>TOTAL UNITS</th>\n",
       "      <th>SALE PRICE</th>\n",
       "    </tr>\n",
       "    <tr>\n",
       "      <th>SALE YEAR</th>\n",
       "      <th>SALE MONTH</th>\n",
       "      <th></th>\n",
       "      <th></th>\n",
       "    </tr>\n",
       "  </thead>\n",
       "  <tbody>\n",
       "    <tr>\n",
       "      <th rowspan=\"4\" valign=\"top\">2016</th>\n",
       "      <th>December</th>\n",
       "      <td>1.0</td>\n",
       "      <td>497500.0</td>\n",
       "    </tr>\n",
       "    <tr>\n",
       "      <th>November</th>\n",
       "      <td>1.0</td>\n",
       "      <td>480000.0</td>\n",
       "    </tr>\n",
       "    <tr>\n",
       "      <th>October</th>\n",
       "      <td>1.0</td>\n",
       "      <td>494500.0</td>\n",
       "    </tr>\n",
       "    <tr>\n",
       "      <th>September</th>\n",
       "      <td>1.0</td>\n",
       "      <td>492000.0</td>\n",
       "    </tr>\n",
       "    <tr>\n",
       "      <th rowspan=\"8\" valign=\"top\">2017</th>\n",
       "      <th>April</th>\n",
       "      <td>1.0</td>\n",
       "      <td>510000.0</td>\n",
       "    </tr>\n",
       "    <tr>\n",
       "      <th>August</th>\n",
       "      <td>1.0</td>\n",
       "      <td>630000.0</td>\n",
       "    </tr>\n",
       "    <tr>\n",
       "      <th>February</th>\n",
       "      <td>1.0</td>\n",
       "      <td>500000.0</td>\n",
       "    </tr>\n",
       "    <tr>\n",
       "      <th>January</th>\n",
       "      <td>1.0</td>\n",
       "      <td>525000.0</td>\n",
       "    </tr>\n",
       "    <tr>\n",
       "      <th>July</th>\n",
       "      <td>1.0</td>\n",
       "      <td>587500.0</td>\n",
       "    </tr>\n",
       "    <tr>\n",
       "      <th>June</th>\n",
       "      <td>1.0</td>\n",
       "      <td>573000.0</td>\n",
       "    </tr>\n",
       "    <tr>\n",
       "      <th>March</th>\n",
       "      <td>1.0</td>\n",
       "      <td>500000.0</td>\n",
       "    </tr>\n",
       "    <tr>\n",
       "      <th>May</th>\n",
       "      <td>1.0</td>\n",
       "      <td>540000.0</td>\n",
       "    </tr>\n",
       "  </tbody>\n",
       "</table>\n",
       "</div>"
      ],
      "text/plain": [
       "                      TOTAL UNITS  SALE PRICE\n",
       "SALE YEAR SALE MONTH                         \n",
       "2016      December            1.0    497500.0\n",
       "          November            1.0    480000.0\n",
       "          October             1.0    494500.0\n",
       "          September           1.0    492000.0\n",
       "2017      April               1.0    510000.0\n",
       "          August              1.0    630000.0\n",
       "          February            1.0    500000.0\n",
       "          January             1.0    525000.0\n",
       "          July                1.0    587500.0\n",
       "          June                1.0    573000.0\n",
       "          March               1.0    500000.0\n",
       "          May                 1.0    540000.0"
      ]
     },
     "execution_count": 32,
     "metadata": {},
     "output_type": "execute_result"
    }
   ],
   "source": [
    "df_median1 = data.groupby([\"SALE YEAR\", \"SALE MONTH\"])[['TOTAL UNITS', 'SALE PRICE']].median()\n",
    "df_median1"
   ]
  },
  {
   "cell_type": "code",
   "execution_count": 33,
   "id": "656fa04d",
   "metadata": {},
   "outputs": [
    {
     "data": {
      "text/html": [
       "<div>\n",
       "<style scoped>\n",
       "    .dataframe tbody tr th:only-of-type {\n",
       "        vertical-align: middle;\n",
       "    }\n",
       "\n",
       "    .dataframe tbody tr th {\n",
       "        vertical-align: top;\n",
       "    }\n",
       "\n",
       "    .dataframe thead th {\n",
       "        text-align: right;\n",
       "    }\n",
       "</style>\n",
       "<table border=\"1\" class=\"dataframe\">\n",
       "  <thead>\n",
       "    <tr style=\"text-align: right;\">\n",
       "      <th></th>\n",
       "      <th>TOTAL UNITS</th>\n",
       "      <th>LAND SQUARE FEET</th>\n",
       "      <th>GROSS SQUARE FEET</th>\n",
       "      <th>SALE PRICE</th>\n",
       "    </tr>\n",
       "    <tr>\n",
       "      <th>BOROUGH</th>\n",
       "      <th></th>\n",
       "      <th></th>\n",
       "      <th></th>\n",
       "      <th></th>\n",
       "    </tr>\n",
       "  </thead>\n",
       "  <tbody>\n",
       "    <tr>\n",
       "      <th>Manhattan</th>\n",
       "      <td>0.0</td>\n",
       "      <td>3854.481179</td>\n",
       "      <td>3894.415813</td>\n",
       "      <td>1125000.0</td>\n",
       "    </tr>\n",
       "    <tr>\n",
       "      <th>Queens</th>\n",
       "      <td>1.0</td>\n",
       "      <td>3854.481179</td>\n",
       "      <td>2450.000000</td>\n",
       "      <td>490000.0</td>\n",
       "    </tr>\n",
       "    <tr>\n",
       "      <th>Staten Island</th>\n",
       "      <td>1.0</td>\n",
       "      <td>3750.000000</td>\n",
       "      <td>1686.000000</td>\n",
       "      <td>455000.0</td>\n",
       "    </tr>\n",
       "    <tr>\n",
       "      <th>Brooklyn</th>\n",
       "      <td>1.0</td>\n",
       "      <td>1800.000000</td>\n",
       "      <td>1472.000000</td>\n",
       "      <td>426000.0</td>\n",
       "    </tr>\n",
       "    <tr>\n",
       "      <th>Bronx</th>\n",
       "      <td>1.0</td>\n",
       "      <td>2264.500000</td>\n",
       "      <td>1674.000000</td>\n",
       "      <td>270000.0</td>\n",
       "    </tr>\n",
       "  </tbody>\n",
       "</table>\n",
       "</div>"
      ],
      "text/plain": [
       "               TOTAL UNITS  LAND SQUARE FEET  GROSS SQUARE FEET  SALE PRICE\n",
       "BOROUGH                                                                    \n",
       "Manhattan              0.0       3854.481179        3894.415813   1125000.0\n",
       "Queens                 1.0       3854.481179        2450.000000    490000.0\n",
       "Staten Island          1.0       3750.000000        1686.000000    455000.0\n",
       "Brooklyn               1.0       1800.000000        1472.000000    426000.0\n",
       "Bronx                  1.0       2264.500000        1674.000000    270000.0"
      ]
     },
     "execution_count": 33,
     "metadata": {},
     "output_type": "execute_result"
    }
   ],
   "source": [
    "df_median2 = data.groupby([\"BOROUGH\"])[['TOTAL UNITS', 'LAND SQUARE FEET', 'GROSS SQUARE FEET', 'SALE PRICE']].median()\n",
    "df_median2.sort_values([\"SALE PRICE\"], ascending=False, inplace=True)\n",
    "df_median2"
   ]
  },
  {
   "cell_type": "code",
   "execution_count": 34,
   "id": "d50e3653",
   "metadata": {},
   "outputs": [
    {
     "data": {
      "text/html": [
       "<div>\n",
       "<style scoped>\n",
       "    .dataframe tbody tr th:only-of-type {\n",
       "        vertical-align: middle;\n",
       "    }\n",
       "\n",
       "    .dataframe tbody tr th {\n",
       "        vertical-align: top;\n",
       "    }\n",
       "\n",
       "    .dataframe thead th {\n",
       "        text-align: right;\n",
       "    }\n",
       "</style>\n",
       "<table border=\"1\" class=\"dataframe\">\n",
       "  <thead>\n",
       "    <tr style=\"text-align: right;\">\n",
       "      <th></th>\n",
       "      <th>BOROUGH</th>\n",
       "      <th>NEIGHBORHOOD</th>\n",
       "      <th>BUILDING CLASS CATEGORY</th>\n",
       "      <th>TAX CLASS AT PRESENT</th>\n",
       "      <th>BLOCK</th>\n",
       "      <th>LOT</th>\n",
       "      <th>BUILDING CLASS AT PRESENT</th>\n",
       "      <th>ADDRESS</th>\n",
       "      <th>APARTMENT NUMBER</th>\n",
       "      <th>ZIP CODE</th>\n",
       "      <th>...</th>\n",
       "      <th>TOTAL UNITS</th>\n",
       "      <th>LAND SQUARE FEET</th>\n",
       "      <th>GROSS SQUARE FEET</th>\n",
       "      <th>YEAR BUILT</th>\n",
       "      <th>TAX CLASS AT TIME OF SALE</th>\n",
       "      <th>BUILDING CLASS AT TIME OF SALE</th>\n",
       "      <th>SALE PRICE</th>\n",
       "      <th>SALE DATE</th>\n",
       "      <th>SALE YEAR</th>\n",
       "      <th>SALE MONTH</th>\n",
       "    </tr>\n",
       "  </thead>\n",
       "  <tbody>\n",
       "    <tr>\n",
       "      <th>0</th>\n",
       "      <td>Brooklyn</td>\n",
       "      <td>FLUSHING-NORTH</td>\n",
       "      <td>01 ONE FAMILY DWELLINGS</td>\n",
       "      <td>1</td>\n",
       "      <td>5066</td>\n",
       "      <td>1</td>\n",
       "      <td>D4</td>\n",
       "      <td>131-05 40TH   ROAD</td>\n",
       "      <td></td>\n",
       "      <td>11235</td>\n",
       "      <td>...</td>\n",
       "      <td>1</td>\n",
       "      <td>3854.481179</td>\n",
       "      <td>3894.415813</td>\n",
       "      <td>0</td>\n",
       "      <td>1</td>\n",
       "      <td>D4</td>\n",
       "      <td>0.0</td>\n",
       "      <td>2016-12-22</td>\n",
       "      <td>2017</td>\n",
       "      <td>June</td>\n",
       "    </tr>\n",
       "  </tbody>\n",
       "</table>\n",
       "<p>1 rows × 22 columns</p>\n",
       "</div>"
      ],
      "text/plain": [
       "    BOROUGH    NEIGHBORHOOD                      BUILDING CLASS CATEGORY  \\\n",
       "0  Brooklyn  FLUSHING-NORTH  01 ONE FAMILY DWELLINGS                       \n",
       "\n",
       "  TAX CLASS AT PRESENT  BLOCK  LOT BUILDING CLASS AT PRESENT  \\\n",
       "0                    1   5066    1                        D4   \n",
       "\n",
       "              ADDRESS APARTMENT NUMBER  ZIP CODE  ...  TOTAL UNITS  \\\n",
       "0  131-05 40TH   ROAD                      11235  ...            1   \n",
       "\n",
       "   LAND SQUARE FEET  GROSS SQUARE FEET  YEAR BUILT  TAX CLASS AT TIME OF SALE  \\\n",
       "0       3854.481179        3894.415813           0                          1   \n",
       "\n",
       "   BUILDING CLASS AT TIME OF SALE SALE PRICE  SALE DATE  SALE YEAR SALE MONTH  \n",
       "0                              D4        0.0 2016-12-22       2017       June  \n",
       "\n",
       "[1 rows x 22 columns]"
      ]
     },
     "execution_count": 34,
     "metadata": {},
     "output_type": "execute_result"
    }
   ],
   "source": [
    "pd.DataFrame(data).mode()"
   ]
  },
  {
   "cell_type": "code",
   "execution_count": 35,
   "id": "0a0e1c6b",
   "metadata": {},
   "outputs": [
    {
     "name": "stdout",
     "output_type": "stream",
     "text": [
      "Range of Sale Price: 250867763.0\n",
      "Range of Land Square Feet: 9996.0\n",
      "Range of Gross Square Feet: 9992.0\n"
     ]
    }
   ],
   "source": [
    "SalePrice_range = np.ptp(data['SALE PRICE'])\n",
    "LandSqrFeet_range = np.ptp(data[\"LAND SQUARE FEET\"])\n",
    "GrossSqrFeet_range = np.ptp(data[\"GROSS SQUARE FEET\"])\n",
    "\n",
    "print(\"Range of Sale Price:\", SalePrice_range)\n",
    "print(\"Range of Land Square Feet:\", LandSqrFeet_range)\n",
    "print(\"Range of Gross Square Feet:\", GrossSqrFeet_range)"
   ]
  },
  {
   "cell_type": "code",
   "execution_count": 36,
   "id": "c9f54f05",
   "metadata": {},
   "outputs": [
    {
     "name": "stdout",
     "output_type": "stream",
     "text": [
      "variance of Sale Price: 7431991954322.694\n",
      "variance of Land Square Feet: 2530671.6620020955\n",
      "variance of Gross Square Feet: 2533582.9070252576\n"
     ]
    }
   ],
   "source": [
    "SalePrice_var = statistics.variance(data['SALE PRICE'])\n",
    "LandSqrFeet_var = statistics.variance(data[\"LAND SQUARE FEET\"])\n",
    "GrossSqrFeet_var = statistics.variance(data[\"GROSS SQUARE FEET\"])\n",
    "\n",
    "print(\"variance of Sale Price:\", SalePrice_var)\n",
    "print(\"variance of Land Square Feet:\", LandSqrFeet_var)\n",
    "print(\"variance of Gross Square Feet:\", GrossSqrFeet_var)"
   ]
  },
  {
   "cell_type": "code",
   "execution_count": 37,
   "id": "d03a30d9",
   "metadata": {},
   "outputs": [
    {
     "data": {
      "text/html": [
       "<div>\n",
       "<style scoped>\n",
       "    .dataframe tbody tr th:only-of-type {\n",
       "        vertical-align: middle;\n",
       "    }\n",
       "\n",
       "    .dataframe tbody tr th {\n",
       "        vertical-align: top;\n",
       "    }\n",
       "\n",
       "    .dataframe thead th {\n",
       "        text-align: right;\n",
       "    }\n",
       "</style>\n",
       "<table border=\"1\" class=\"dataframe\">\n",
       "  <thead>\n",
       "    <tr style=\"text-align: right;\">\n",
       "      <th></th>\n",
       "      <th></th>\n",
       "      <th>TOTAL UNITS</th>\n",
       "      <th>SALE PRICE</th>\n",
       "    </tr>\n",
       "    <tr>\n",
       "      <th>SALE YEAR</th>\n",
       "      <th>SALE MONTH</th>\n",
       "      <th></th>\n",
       "      <th></th>\n",
       "    </tr>\n",
       "  </thead>\n",
       "  <tbody>\n",
       "    <tr>\n",
       "      <th rowspan=\"4\" valign=\"top\">2016</th>\n",
       "      <th>December</th>\n",
       "      <td>15.104581</td>\n",
       "      <td>1.235845e+13</td>\n",
       "    </tr>\n",
       "    <tr>\n",
       "      <th>November</th>\n",
       "      <td>1.958682</td>\n",
       "      <td>5.271885e+12</td>\n",
       "    </tr>\n",
       "    <tr>\n",
       "      <th>October</th>\n",
       "      <td>969.493482</td>\n",
       "      <td>5.059937e+12</td>\n",
       "    </tr>\n",
       "    <tr>\n",
       "      <th>September</th>\n",
       "      <td>2.287951</td>\n",
       "      <td>7.617701e+12</td>\n",
       "    </tr>\n",
       "    <tr>\n",
       "      <th rowspan=\"8\" valign=\"top\">2017</th>\n",
       "      <th>April</th>\n",
       "      <td>1.756139</td>\n",
       "      <td>5.581804e+12</td>\n",
       "    </tr>\n",
       "    <tr>\n",
       "      <th>August</th>\n",
       "      <td>2.123488</td>\n",
       "      <td>8.262742e+12</td>\n",
       "    </tr>\n",
       "    <tr>\n",
       "      <th>February</th>\n",
       "      <td>2.172034</td>\n",
       "      <td>3.280333e+12</td>\n",
       "    </tr>\n",
       "    <tr>\n",
       "      <th>January</th>\n",
       "      <td>1.830151</td>\n",
       "      <td>5.504605e+12</td>\n",
       "    </tr>\n",
       "    <tr>\n",
       "      <th>July</th>\n",
       "      <td>2.057270</td>\n",
       "      <td>2.783086e+12</td>\n",
       "    </tr>\n",
       "    <tr>\n",
       "      <th>June</th>\n",
       "      <td>2.178035</td>\n",
       "      <td>1.276594e+13</td>\n",
       "    </tr>\n",
       "    <tr>\n",
       "      <th>March</th>\n",
       "      <td>1.746868</td>\n",
       "      <td>1.361858e+13</td>\n",
       "    </tr>\n",
       "    <tr>\n",
       "      <th>May</th>\n",
       "      <td>2.067906</td>\n",
       "      <td>4.216271e+12</td>\n",
       "    </tr>\n",
       "  </tbody>\n",
       "</table>\n",
       "</div>"
      ],
      "text/plain": [
       "                      TOTAL UNITS    SALE PRICE\n",
       "SALE YEAR SALE MONTH                           \n",
       "2016      December      15.104581  1.235845e+13\n",
       "          November       1.958682  5.271885e+12\n",
       "          October      969.493482  5.059937e+12\n",
       "          September      2.287951  7.617701e+12\n",
       "2017      April          1.756139  5.581804e+12\n",
       "          August         2.123488  8.262742e+12\n",
       "          February       2.172034  3.280333e+12\n",
       "          January        1.830151  5.504605e+12\n",
       "          July           2.057270  2.783086e+12\n",
       "          June           2.178035  1.276594e+13\n",
       "          March          1.746868  1.361858e+13\n",
       "          May            2.067906  4.216271e+12"
      ]
     },
     "execution_count": 37,
     "metadata": {},
     "output_type": "execute_result"
    }
   ],
   "source": [
    "df_var1 = data.groupby([\"SALE YEAR\", \"SALE MONTH\"])[['TOTAL UNITS', 'SALE PRICE']].var()\n",
    "df_var1"
   ]
  },
  {
   "cell_type": "code",
   "execution_count": 38,
   "id": "851cf3f0",
   "metadata": {},
   "outputs": [
    {
     "data": {
      "text/html": [
       "<div>\n",
       "<style scoped>\n",
       "    .dataframe tbody tr th:only-of-type {\n",
       "        vertical-align: middle;\n",
       "    }\n",
       "\n",
       "    .dataframe tbody tr th {\n",
       "        vertical-align: top;\n",
       "    }\n",
       "\n",
       "    .dataframe thead th {\n",
       "        text-align: right;\n",
       "    }\n",
       "</style>\n",
       "<table border=\"1\" class=\"dataframe\">\n",
       "  <thead>\n",
       "    <tr style=\"text-align: right;\">\n",
       "      <th></th>\n",
       "      <th>TOTAL UNITS</th>\n",
       "      <th>LAND SQUARE FEET</th>\n",
       "      <th>GROSS SQUARE FEET</th>\n",
       "      <th>SALE PRICE</th>\n",
       "    </tr>\n",
       "    <tr>\n",
       "      <th>BOROUGH</th>\n",
       "      <th></th>\n",
       "      <th></th>\n",
       "      <th></th>\n",
       "      <th></th>\n",
       "    </tr>\n",
       "  </thead>\n",
       "  <tbody>\n",
       "    <tr>\n",
       "      <th>Manhattan</th>\n",
       "      <td>2.553650</td>\n",
       "      <td>1.722458e+05</td>\n",
       "      <td>2.674397e+05</td>\n",
       "      <td>2.814456e+13</td>\n",
       "    </tr>\n",
       "    <tr>\n",
       "      <th>Queens</th>\n",
       "      <td>282.736008</td>\n",
       "      <td>1.205745e+06</td>\n",
       "      <td>1.526011e+06</td>\n",
       "      <td>2.025387e+12</td>\n",
       "    </tr>\n",
       "    <tr>\n",
       "      <th>Brooklyn</th>\n",
       "      <td>5.765288</td>\n",
       "      <td>2.003268e+06</td>\n",
       "      <td>2.740420e+06</td>\n",
       "      <td>1.394897e+12</td>\n",
       "    </tr>\n",
       "    <tr>\n",
       "      <th>Bronx</th>\n",
       "      <td>2.352785</td>\n",
       "      <td>2.910968e+06</td>\n",
       "      <td>2.303243e+06</td>\n",
       "      <td>4.870188e+11</td>\n",
       "    </tr>\n",
       "    <tr>\n",
       "      <th>Staten Island</th>\n",
       "      <td>0.437589</td>\n",
       "      <td>2.808522e+06</td>\n",
       "      <td>1.093547e+06</td>\n",
       "      <td>1.013164e+11</td>\n",
       "    </tr>\n",
       "  </tbody>\n",
       "</table>\n",
       "</div>"
      ],
      "text/plain": [
       "               TOTAL UNITS  LAND SQUARE FEET  GROSS SQUARE FEET    SALE PRICE\n",
       "BOROUGH                                                                      \n",
       "Manhattan         2.553650      1.722458e+05       2.674397e+05  2.814456e+13\n",
       "Queens          282.736008      1.205745e+06       1.526011e+06  2.025387e+12\n",
       "Brooklyn          5.765288      2.003268e+06       2.740420e+06  1.394897e+12\n",
       "Bronx             2.352785      2.910968e+06       2.303243e+06  4.870188e+11\n",
       "Staten Island     0.437589      2.808522e+06       1.093547e+06  1.013164e+11"
      ]
     },
     "execution_count": 38,
     "metadata": {},
     "output_type": "execute_result"
    }
   ],
   "source": [
    "df_var2 = data.groupby([\"BOROUGH\"])[['TOTAL UNITS', 'LAND SQUARE FEET', 'GROSS SQUARE FEET', 'SALE PRICE']].var()\n",
    "df_var2.sort_values([\"SALE PRICE\"], ascending=False, inplace=True)\n",
    "df_var2"
   ]
  },
  {
   "cell_type": "code",
   "execution_count": 39,
   "id": "4c692f79",
   "metadata": {},
   "outputs": [
    {
     "name": "stdout",
     "output_type": "stream",
     "text": [
      "Standard Deviation of Sale Price: 2726147.823102385\n",
      "Standard Deviation of Land Square Feet: 1590.796720366595\n",
      "Standard Deviation of Gross Square Feet: 1591.7114711724541\n"
     ]
    }
   ],
   "source": [
    "SalePrice_std = np.std(data['SALE PRICE'])\n",
    "LandSqrFeet_std = np.std(data[\"LAND SQUARE FEET\"])\n",
    "GrossSqrFeet_std = np.std(data[\"GROSS SQUARE FEET\"])\n",
    "\n",
    "print(\"Standard Deviation of Sale Price:\", SalePrice_std)\n",
    "print(\"Standard Deviation of Land Square Feet:\", LandSqrFeet_std)\n",
    "print(\"Standard Deviation of Gross Square Feet:\", GrossSqrFeet_std)"
   ]
  },
  {
   "cell_type": "code",
   "execution_count": 40,
   "id": "f0bc6675",
   "metadata": {},
   "outputs": [
    {
     "data": {
      "text/html": [
       "<div>\n",
       "<style scoped>\n",
       "    .dataframe tbody tr th:only-of-type {\n",
       "        vertical-align: middle;\n",
       "    }\n",
       "\n",
       "    .dataframe tbody tr th {\n",
       "        vertical-align: top;\n",
       "    }\n",
       "\n",
       "    .dataframe thead th {\n",
       "        text-align: right;\n",
       "    }\n",
       "</style>\n",
       "<table border=\"1\" class=\"dataframe\">\n",
       "  <thead>\n",
       "    <tr style=\"text-align: right;\">\n",
       "      <th></th>\n",
       "      <th></th>\n",
       "      <th>TOTAL UNITS</th>\n",
       "      <th>SALE PRICE</th>\n",
       "    </tr>\n",
       "    <tr>\n",
       "      <th>SALE YEAR</th>\n",
       "      <th>SALE MONTH</th>\n",
       "      <th></th>\n",
       "      <th></th>\n",
       "    </tr>\n",
       "  </thead>\n",
       "  <tbody>\n",
       "    <tr>\n",
       "      <th rowspan=\"4\" valign=\"top\">2016</th>\n",
       "      <th>December</th>\n",
       "      <td>3.886461</td>\n",
       "      <td>3.515458e+06</td>\n",
       "    </tr>\n",
       "    <tr>\n",
       "      <th>November</th>\n",
       "      <td>1.399529</td>\n",
       "      <td>2.296059e+06</td>\n",
       "    </tr>\n",
       "    <tr>\n",
       "      <th>October</th>\n",
       "      <td>31.136690</td>\n",
       "      <td>2.249430e+06</td>\n",
       "    </tr>\n",
       "    <tr>\n",
       "      <th>September</th>\n",
       "      <td>1.512597</td>\n",
       "      <td>2.760018e+06</td>\n",
       "    </tr>\n",
       "    <tr>\n",
       "      <th rowspan=\"8\" valign=\"top\">2017</th>\n",
       "      <th>April</th>\n",
       "      <td>1.325194</td>\n",
       "      <td>2.362584e+06</td>\n",
       "    </tr>\n",
       "    <tr>\n",
       "      <th>August</th>\n",
       "      <td>1.457219</td>\n",
       "      <td>2.874499e+06</td>\n",
       "    </tr>\n",
       "    <tr>\n",
       "      <th>February</th>\n",
       "      <td>1.473782</td>\n",
       "      <td>1.811169e+06</td>\n",
       "    </tr>\n",
       "    <tr>\n",
       "      <th>January</th>\n",
       "      <td>1.352831</td>\n",
       "      <td>2.346189e+06</td>\n",
       "    </tr>\n",
       "    <tr>\n",
       "      <th>July</th>\n",
       "      <td>1.434319</td>\n",
       "      <td>1.668258e+06</td>\n",
       "    </tr>\n",
       "    <tr>\n",
       "      <th>June</th>\n",
       "      <td>1.475817</td>\n",
       "      <td>3.572946e+06</td>\n",
       "    </tr>\n",
       "    <tr>\n",
       "      <th>March</th>\n",
       "      <td>1.321691</td>\n",
       "      <td>3.690337e+06</td>\n",
       "    </tr>\n",
       "    <tr>\n",
       "      <th>May</th>\n",
       "      <td>1.438022</td>\n",
       "      <td>2.053356e+06</td>\n",
       "    </tr>\n",
       "  </tbody>\n",
       "</table>\n",
       "</div>"
      ],
      "text/plain": [
       "                      TOTAL UNITS    SALE PRICE\n",
       "SALE YEAR SALE MONTH                           \n",
       "2016      December       3.886461  3.515458e+06\n",
       "          November       1.399529  2.296059e+06\n",
       "          October       31.136690  2.249430e+06\n",
       "          September      1.512597  2.760018e+06\n",
       "2017      April          1.325194  2.362584e+06\n",
       "          August         1.457219  2.874499e+06\n",
       "          February       1.473782  1.811169e+06\n",
       "          January        1.352831  2.346189e+06\n",
       "          July           1.434319  1.668258e+06\n",
       "          June           1.475817  3.572946e+06\n",
       "          March          1.321691  3.690337e+06\n",
       "          May            1.438022  2.053356e+06"
      ]
     },
     "execution_count": 40,
     "metadata": {},
     "output_type": "execute_result"
    }
   ],
   "source": [
    "df_std1 = data.groupby([\"SALE YEAR\", \"SALE MONTH\"])[['TOTAL UNITS', 'SALE PRICE']].std()\n",
    "df_std1"
   ]
  },
  {
   "cell_type": "code",
   "execution_count": 41,
   "id": "aa66db25",
   "metadata": {},
   "outputs": [
    {
     "data": {
      "text/html": [
       "<div>\n",
       "<style scoped>\n",
       "    .dataframe tbody tr th:only-of-type {\n",
       "        vertical-align: middle;\n",
       "    }\n",
       "\n",
       "    .dataframe tbody tr th {\n",
       "        vertical-align: top;\n",
       "    }\n",
       "\n",
       "    .dataframe thead th {\n",
       "        text-align: right;\n",
       "    }\n",
       "</style>\n",
       "<table border=\"1\" class=\"dataframe\">\n",
       "  <thead>\n",
       "    <tr style=\"text-align: right;\">\n",
       "      <th></th>\n",
       "      <th>TOTAL UNITS</th>\n",
       "      <th>LAND SQUARE FEET</th>\n",
       "      <th>GROSS SQUARE FEET</th>\n",
       "      <th>SALE PRICE</th>\n",
       "    </tr>\n",
       "    <tr>\n",
       "      <th>BOROUGH</th>\n",
       "      <th></th>\n",
       "      <th></th>\n",
       "      <th></th>\n",
       "      <th></th>\n",
       "    </tr>\n",
       "  </thead>\n",
       "  <tbody>\n",
       "    <tr>\n",
       "      <th>Manhattan</th>\n",
       "      <td>1.598014</td>\n",
       "      <td>415.025045</td>\n",
       "      <td>517.145720</td>\n",
       "      <td>5.305145e+06</td>\n",
       "    </tr>\n",
       "    <tr>\n",
       "      <th>Queens</th>\n",
       "      <td>16.814756</td>\n",
       "      <td>1098.064277</td>\n",
       "      <td>1235.318216</td>\n",
       "      <td>1.423161e+06</td>\n",
       "    </tr>\n",
       "    <tr>\n",
       "      <th>Brooklyn</th>\n",
       "      <td>2.401101</td>\n",
       "      <td>1415.368340</td>\n",
       "      <td>1655.421429</td>\n",
       "      <td>1.181058e+06</td>\n",
       "    </tr>\n",
       "    <tr>\n",
       "      <th>Bronx</th>\n",
       "      <td>1.533879</td>\n",
       "      <td>1706.155789</td>\n",
       "      <td>1517.644002</td>\n",
       "      <td>6.978673e+05</td>\n",
       "    </tr>\n",
       "    <tr>\n",
       "      <th>Staten Island</th>\n",
       "      <td>0.661505</td>\n",
       "      <td>1675.864502</td>\n",
       "      <td>1045.728027</td>\n",
       "      <td>3.183023e+05</td>\n",
       "    </tr>\n",
       "  </tbody>\n",
       "</table>\n",
       "</div>"
      ],
      "text/plain": [
       "               TOTAL UNITS  LAND SQUARE FEET  GROSS SQUARE FEET    SALE PRICE\n",
       "BOROUGH                                                                      \n",
       "Manhattan         1.598014        415.025045         517.145720  5.305145e+06\n",
       "Queens           16.814756       1098.064277        1235.318216  1.423161e+06\n",
       "Brooklyn          2.401101       1415.368340        1655.421429  1.181058e+06\n",
       "Bronx             1.533879       1706.155789        1517.644002  6.978673e+05\n",
       "Staten Island     0.661505       1675.864502        1045.728027  3.183023e+05"
      ]
     },
     "execution_count": 41,
     "metadata": {},
     "output_type": "execute_result"
    }
   ],
   "source": [
    "df_std2 = data.groupby([\"BOROUGH\"])[['TOTAL UNITS', 'LAND SQUARE FEET', 'GROSS SQUARE FEET', 'SALE PRICE']].std()\n",
    "df_std2.sort_values([\"SALE PRICE\"], ascending=False, inplace=True)\n",
    "df_std2"
   ]
  },
  {
   "cell_type": "code",
   "execution_count": 42,
   "id": "c36ef38c",
   "metadata": {},
   "outputs": [
    {
     "name": "stderr",
     "output_type": "stream",
     "text": [
      "C:\\Users\\ASUS\\anaconda3\\lib\\site-packages\\seaborn\\distributions.py:2619: FutureWarning: `distplot` is a deprecated function and will be removed in a future version. Please adapt your code to use either `displot` (a figure-level function with similar flexibility) or `histplot` (an axes-level function for histograms).\n",
      "  warnings.warn(msg, FutureWarning)\n"
     ]
    },
    {
     "data": {
      "text/plain": [
       "<AxesSubplot:xlabel='SALE PRICE', ylabel='Density'>"
      ]
     },
     "execution_count": 42,
     "metadata": {},
     "output_type": "execute_result"
    },
    {
     "data": {
      "image/png": "[encoded data removed]",
      "text/plain": [
       "<Figure size 640x480 with 1 Axes>"
      ]
     },
     "metadata": {},
     "output_type": "display_data"
    }
   ],
   "source": [
    "sns.distplot(data['SALE PRICE'])"
   ]
  },
  {
   "cell_type": "code",
   "execution_count": 43,
   "id": "d5011ca0",
   "metadata": {},
   "outputs": [
    {
     "data": {
      "text/plain": [
       "33.71827754831459"
      ]
     },
     "execution_count": 43,
     "metadata": {},
     "output_type": "execute_result"
    }
   ],
   "source": [
    "data['SALE PRICE'].skew()"
   ]
  },
  {
   "cell_type": "code",
   "execution_count": 51,
   "id": "a5d69882",
   "metadata": {},
   "outputs": [
    {
     "name": "stdout",
     "output_type": "stream",
     "text": [
      "nan\n"
     ]
    },
    {
     "ename": "OverflowError",
     "evalue": "cannot convert float infinity to integer",
     "output_type": "error",
     "traceback": [
      "\u001b[1;31m---------------------------------------------------------------------------\u001b[0m",
      "\u001b[1;31mOverflowError\u001b[0m                             Traceback (most recent call last)",
      "\u001b[1;32m~\\AppData\\Local\\Temp\\ipykernel_16024\\2545179885.py\u001b[0m in \u001b[0;36m<module>\u001b[1;34m\u001b[0m\n\u001b[0;32m      1\u001b[0m \u001b[0msp_normal\u001b[0m \u001b[1;33m=\u001b[0m\u001b[0mnp\u001b[0m\u001b[1;33m.\u001b[0m\u001b[0mlog\u001b[0m\u001b[1;33m(\u001b[0m\u001b[0mdata\u001b[0m\u001b[1;33m[\u001b[0m\u001b[1;34m'SALE PRICE'\u001b[0m\u001b[1;33m]\u001b[0m\u001b[1;33m)\u001b[0m\u001b[1;33m\u001b[0m\u001b[1;33m\u001b[0m\u001b[0m\n\u001b[0;32m      2\u001b[0m \u001b[0mprint\u001b[0m\u001b[1;33m(\u001b[0m\u001b[0msp_normal\u001b[0m\u001b[1;33m.\u001b[0m\u001b[0mskew\u001b[0m\u001b[1;33m(\u001b[0m\u001b[1;33m)\u001b[0m\u001b[1;33m)\u001b[0m\u001b[1;33m\u001b[0m\u001b[1;33m\u001b[0m\u001b[0m\n\u001b[1;32m----> 3\u001b[1;33m sns.distplot(sp_normal,\n\u001b[0m\u001b[0;32m      4\u001b[0m              \u001b[0mkde\u001b[0m\u001b[1;33m=\u001b[0m\u001b[1;32mTrue\u001b[0m\u001b[1;33m,\u001b[0m\u001b[1;33m\u001b[0m\u001b[1;33m\u001b[0m\u001b[0m\n\u001b[0;32m      5\u001b[0m              color='navy')\n",
      "\u001b[1;32m~\\anaconda3\\lib\\site-packages\\seaborn\\distributions.py\u001b[0m in \u001b[0;36mdistplot\u001b[1;34m(a, bins, hist, kde, rug, fit, hist_kws, kde_kws, rug_kws, fit_kws, color, vertical, norm_hist, axlabel, label, ax, x)\u001b[0m\n\u001b[0;32m   2672\u001b[0m     \u001b[1;32mif\u001b[0m \u001b[0mhist\u001b[0m\u001b[1;33m:\u001b[0m\u001b[1;33m\u001b[0m\u001b[1;33m\u001b[0m\u001b[0m\n\u001b[0;32m   2673\u001b[0m         \u001b[1;32mif\u001b[0m \u001b[0mbins\u001b[0m \u001b[1;32mis\u001b[0m \u001b[1;32mNone\u001b[0m\u001b[1;33m:\u001b[0m\u001b[1;33m\u001b[0m\u001b[1;33m\u001b[0m\u001b[0m\n\u001b[1;32m-> 2674\u001b[1;33m             \u001b[0mbins\u001b[0m \u001b[1;33m=\u001b[0m \u001b[0mmin\u001b[0m\u001b[1;33m(\u001b[0m\u001b[0m_freedman_diaconis_bins\u001b[0m\u001b[1;33m(\u001b[0m\u001b[0ma\u001b[0m\u001b[1;33m)\u001b[0m\u001b[1;33m,\u001b[0m \u001b[1;36m50\u001b[0m\u001b[1;33m)\u001b[0m\u001b[1;33m\u001b[0m\u001b[1;33m\u001b[0m\u001b[0m\n\u001b[0m\u001b[0;32m   2675\u001b[0m         \u001b[0mhist_kws\u001b[0m\u001b[1;33m.\u001b[0m\u001b[0msetdefault\u001b[0m\u001b[1;33m(\u001b[0m\u001b[1;34m\"alpha\"\u001b[0m\u001b[1;33m,\u001b[0m \u001b[1;36m0.4\u001b[0m\u001b[1;33m)\u001b[0m\u001b[1;33m\u001b[0m\u001b[1;33m\u001b[0m\u001b[0m\n\u001b[0;32m   2676\u001b[0m         \u001b[0mhist_kws\u001b[0m\u001b[1;33m.\u001b[0m\u001b[0msetdefault\u001b[0m\u001b[1;33m(\u001b[0m\u001b[1;34m\"density\"\u001b[0m\u001b[1;33m,\u001b[0m \u001b[0mnorm_hist\u001b[0m\u001b[1;33m)\u001b[0m\u001b[1;33m\u001b[0m\u001b[1;33m\u001b[0m\u001b[0m\n",
      "\u001b[1;32m~\\anaconda3\\lib\\site-packages\\seaborn\\distributions.py\u001b[0m in \u001b[0;36m_freedman_diaconis_bins\u001b[1;34m(a)\u001b[0m\n\u001b[0;32m   2463\u001b[0m         \u001b[1;32mreturn\u001b[0m \u001b[0mint\u001b[0m\u001b[1;33m(\u001b[0m\u001b[0mnp\u001b[0m\u001b[1;33m.\u001b[0m\u001b[0msqrt\u001b[0m\u001b[1;33m(\u001b[0m\u001b[0ma\u001b[0m\u001b[1;33m.\u001b[0m\u001b[0msize\u001b[0m\u001b[1;33m)\u001b[0m\u001b[1;33m)\u001b[0m\u001b[1;33m\u001b[0m\u001b[1;33m\u001b[0m\u001b[0m\n\u001b[0;32m   2464\u001b[0m     \u001b[1;32melse\u001b[0m\u001b[1;33m:\u001b[0m\u001b[1;33m\u001b[0m\u001b[1;33m\u001b[0m\u001b[0m\n\u001b[1;32m-> 2465\u001b[1;33m         \u001b[1;32mreturn\u001b[0m \u001b[0mint\u001b[0m\u001b[1;33m(\u001b[0m\u001b[0mnp\u001b[0m\u001b[1;33m.\u001b[0m\u001b[0mceil\u001b[0m\u001b[1;33m(\u001b[0m\u001b[1;33m(\u001b[0m\u001b[0ma\u001b[0m\u001b[1;33m.\u001b[0m\u001b[0mmax\u001b[0m\u001b[1;33m(\u001b[0m\u001b[1;33m)\u001b[0m \u001b[1;33m-\u001b[0m \u001b[0ma\u001b[0m\u001b[1;33m.\u001b[0m\u001b[0mmin\u001b[0m\u001b[1;33m(\u001b[0m\u001b[1;33m)\u001b[0m\u001b[1;33m)\u001b[0m \u001b[1;33m/\u001b[0m \u001b[0mh\u001b[0m\u001b[1;33m)\u001b[0m\u001b[1;33m)\u001b[0m\u001b[1;33m\u001b[0m\u001b[1;33m\u001b[0m\u001b[0m\n\u001b[0m\u001b[0;32m   2466\u001b[0m \u001b[1;33m\u001b[0m\u001b[0m\n\u001b[0;32m   2467\u001b[0m \u001b[1;33m\u001b[0m\u001b[0m\n",
      "\u001b[1;31mOverflowError\u001b[0m: cannot convert float infinity to integer"
     ]
    },
    {
     "data": {
      "image/png": "[encoded data removed]",
      "text/plain": [
       "<Figure size 640x480 with 1 Axes>"
      ]
     },
     "metadata": {},
     "output_type": "display_data"
    }
   ],
   "source": [
    "sp_normal =np.log(data['SALE PRICE'])\n",
    "print(sp_normal.skew())\n",
    "sns.distplot(sp_normal,\n",
    "             kde=True,\n",
    "             color='navy')"
   ]
  },
  {
   "cell_type": "code",
   "execution_count": 52,
   "id": "b6e68984",
   "metadata": {},
   "outputs": [
    {
     "data": {
      "text/html": [
       "<div>\n",
       "<style scoped>\n",
       "    .dataframe tbody tr th:only-of-type {\n",
       "        vertical-align: middle;\n",
       "    }\n",
       "\n",
       "    .dataframe tbody tr th {\n",
       "        vertical-align: top;\n",
       "    }\n",
       "\n",
       "    .dataframe thead tr th {\n",
       "        text-align: left;\n",
       "    }\n",
       "\n",
       "    .dataframe thead tr:last-of-type th {\n",
       "        text-align: right;\n",
       "    }\n",
       "</style>\n",
       "<table border=\"1\" class=\"dataframe\">\n",
       "  <thead>\n",
       "    <tr>\n",
       "      <th></th>\n",
       "      <th colspan=\"3\" halign=\"left\">SALE PRICE</th>\n",
       "    </tr>\n",
       "    <tr>\n",
       "      <th></th>\n",
       "      <th>mean</th>\n",
       "      <th>std</th>\n",
       "      <th>size</th>\n",
       "    </tr>\n",
       "    <tr>\n",
       "      <th>BOROUGH</th>\n",
       "      <th></th>\n",
       "      <th></th>\n",
       "      <th></th>\n",
       "    </tr>\n",
       "  </thead>\n",
       "  <tbody>\n",
       "    <tr>\n",
       "      <th>Bronx</th>\n",
       "      <td>3.317502e+05</td>\n",
       "      <td>6.978673e+05</td>\n",
       "      <td>6530</td>\n",
       "    </tr>\n",
       "    <tr>\n",
       "      <th>Brooklyn</th>\n",
       "      <td>6.542181e+05</td>\n",
       "      <td>1.181058e+06</td>\n",
       "      <td>23213</td>\n",
       "    </tr>\n",
       "    <tr>\n",
       "      <th>Manhattan</th>\n",
       "      <td>2.361377e+06</td>\n",
       "      <td>5.305145e+06</td>\n",
       "      <td>13978</td>\n",
       "    </tr>\n",
       "    <tr>\n",
       "      <th>Queens</th>\n",
       "      <td>6.028922e+05</td>\n",
       "      <td>1.423161e+06</td>\n",
       "      <td>18135</td>\n",
       "    </tr>\n",
       "    <tr>\n",
       "      <th>Staten Island</th>\n",
       "      <td>4.683261e+05</td>\n",
       "      <td>3.183023e+05</td>\n",
       "      <td>5707</td>\n",
       "    </tr>\n",
       "  </tbody>\n",
       "</table>\n",
       "</div>"
      ],
      "text/plain": [
       "                 SALE PRICE                     \n",
       "                       mean           std   size\n",
       "BOROUGH                                         \n",
       "Bronx          3.317502e+05  6.978673e+05   6530\n",
       "Brooklyn       6.542181e+05  1.181058e+06  23213\n",
       "Manhattan      2.361377e+06  5.305145e+06  13978\n",
       "Queens         6.028922e+05  1.423161e+06  18135\n",
       "Staten Island  4.683261e+05  3.183023e+05   5707"
      ]
     },
     "execution_count": 52,
     "metadata": {},
     "output_type": "execute_result"
    }
   ],
   "source": [
    "CI_Borough = data.groupby([\"BOROUGH\"]).agg({\"SALE PRICE\": [np.mean, np.std, np.size]})\n",
    "CI_Borough"
   ]
  },
  {
   "cell_type": "code",
   "execution_count": 53,
   "id": "69d925d3",
   "metadata": {},
   "outputs": [],
   "source": [
    "mean_queens = 6.021809e+05\n",
    "std_queens = 4.256398e+05\n",
    "n = 17349\n",
    "z = 1.96 "
   ]
  },
  {
   "cell_type": "code",
   "execution_count": 54,
   "id": "fb86070f",
   "metadata": {},
   "outputs": [
    {
     "name": "stdout",
     "output_type": "stream",
     "text": [
      "Confidence Interval:  595847.1476519895 and 608514.6523480106\n"
     ]
    }
   ],
   "source": [
    "se = std_queens/ np.sqrt(n)\n",
    "\n",
    "lcb = mean_queens - z * se\n",
    "ucb = mean_queens + z * se\n",
    "\n",
    "print(\"Confidence Interval: \", lcb, 'and' , ucb)"
   ]
  },
  {
   "cell_type": "code",
   "execution_count": 55,
   "id": "130d1b5b",
   "metadata": {},
   "outputs": [
    {
     "data": {
      "text/html": [
       "<div>\n",
       "<style scoped>\n",
       "    .dataframe tbody tr th:only-of-type {\n",
       "        vertical-align: middle;\n",
       "    }\n",
       "\n",
       "    .dataframe tbody tr th {\n",
       "        vertical-align: top;\n",
       "    }\n",
       "\n",
       "    .dataframe thead tr th {\n",
       "        text-align: left;\n",
       "    }\n",
       "\n",
       "    .dataframe thead tr:last-of-type th {\n",
       "        text-align: right;\n",
       "    }\n",
       "</style>\n",
       "<table border=\"1\" class=\"dataframe\">\n",
       "  <thead>\n",
       "    <tr>\n",
       "      <th></th>\n",
       "      <th></th>\n",
       "      <th colspan=\"3\" halign=\"left\">SALE PRICE</th>\n",
       "    </tr>\n",
       "    <tr>\n",
       "      <th></th>\n",
       "      <th></th>\n",
       "      <th>mean</th>\n",
       "      <th>std</th>\n",
       "      <th>size</th>\n",
       "    </tr>\n",
       "    <tr>\n",
       "      <th>BUILDING CLASS CATEGORY</th>\n",
       "      <th>BOROUGH</th>\n",
       "      <th></th>\n",
       "      <th></th>\n",
       "      <th></th>\n",
       "    </tr>\n",
       "  </thead>\n",
       "  <tbody>\n",
       "    <tr>\n",
       "      <th rowspan=\"5\" valign=\"top\">01 ONE FAMILY DWELLINGS</th>\n",
       "      <th>Bronx</th>\n",
       "      <td>3.241056e+05</td>\n",
       "      <td>4.130245e+05</td>\n",
       "      <td>1329.0</td>\n",
       "    </tr>\n",
       "    <tr>\n",
       "      <th>Brooklyn</th>\n",
       "      <td>5.990920e+05</td>\n",
       "      <td>8.391921e+05</td>\n",
       "      <td>3466.0</td>\n",
       "    </tr>\n",
       "    <tr>\n",
       "      <th>Manhattan</th>\n",
       "      <td>8.061651e+06</td>\n",
       "      <td>7.388416e+06</td>\n",
       "      <td>78.0</td>\n",
       "    </tr>\n",
       "    <tr>\n",
       "      <th>Queens</th>\n",
       "      <td>5.938405e+05</td>\n",
       "      <td>3.189919e+05</td>\n",
       "      <td>5883.0</td>\n",
       "    </tr>\n",
       "    <tr>\n",
       "      <th>Staten Island</th>\n",
       "      <td>4.658297e+05</td>\n",
       "      <td>2.761249e+05</td>\n",
       "      <td>3430.0</td>\n",
       "    </tr>\n",
       "  </tbody>\n",
       "</table>\n",
       "</div>"
      ],
      "text/plain": [
       "                                                             SALE PRICE  \\\n",
       "                                                                   mean   \n",
       "BUILDING CLASS CATEGORY                     BOROUGH                       \n",
       "01 ONE FAMILY DWELLINGS                     Bronx          3.241056e+05   \n",
       "                                            Brooklyn       5.990920e+05   \n",
       "                                            Manhattan      8.061651e+06   \n",
       "                                            Queens         5.938405e+05   \n",
       "                                            Staten Island  4.658297e+05   \n",
       "\n",
       "                                                                         \\\n",
       "                                                                    std   \n",
       "BUILDING CLASS CATEGORY                     BOROUGH                       \n",
       "01 ONE FAMILY DWELLINGS                     Bronx          4.130245e+05   \n",
       "                                            Brooklyn       8.391921e+05   \n",
       "                                            Manhattan      7.388416e+06   \n",
       "                                            Queens         3.189919e+05   \n",
       "                                            Staten Island  2.761249e+05   \n",
       "\n",
       "                                                                   \n",
       "                                                             size  \n",
       "BUILDING CLASS CATEGORY                     BOROUGH                \n",
       "01 ONE FAMILY DWELLINGS                     Bronx          1329.0  \n",
       "                                            Brooklyn       3466.0  \n",
       "                                            Manhattan        78.0  \n",
       "                                            Queens         5883.0  \n",
       "                                            Staten Island  3430.0  "
      ]
     },
     "execution_count": 55,
     "metadata": {},
     "output_type": "execute_result"
    }
   ],
   "source": [
    "CI_bcc = data.groupby([\"BUILDING CLASS CATEGORY\", \"BOROUGH\"]).agg({\"SALE PRICE\": [np.mean, np.std, np.size]})\n",
    "CI_bcc.head()"
   ]
  },
  {
   "cell_type": "code",
   "execution_count": 56,
   "id": "242e9c2d",
   "metadata": {},
   "outputs": [],
   "source": [
    "mean_01 = 6.159284e+05\n",
    "std_01 = 3.039587e+05\n",
    "n = 5666\n",
    "z = 1.96 "
   ]
  },
  {
   "cell_type": "code",
   "execution_count": 57,
   "id": "099e94b8",
   "metadata": {},
   "outputs": [
    {
     "name": "stdout",
     "output_type": "stream",
     "text": [
      "Confidence Interval:  608013.7381482649 and 623843.0618517351\n"
     ]
    }
   ],
   "source": [
    "se = std_01/ np.sqrt(n)\n",
    "\n",
    "lcb = mean_01 - z * se\n",
    "ucb = mean_01 + z * se\n",
    "\n",
    "print(\"Confidence Interval: \", lcb, 'and' , ucb)"
   ]
  },
  {
   "cell_type": "markdown",
   "id": "f1b3123b",
   "metadata": {},
   "source": [
    "## Hypothesis Testing\n",
    "    - Difference Of Means\n",
    "Apakah terdapat perbedaan harga jual pada properti yang dibangun ditahun 1900an dan tahun 2000an?\n",
    "\n",
    "Significance level (alpha) : 5% (0.05)\n",
    "\n",
    "Hipotesis :\n",
    "\n",
    "H0: μ1 = μ2 (tidak terdapat perbedaan rata-rata  harga jual pada properti yang dibangun ditahun 1900an dan 2000an)\n",
    "\n",
    "H1: μ1 ≠ μ2 (terdapat perbedaan rata-rata harga jual pada properti yang dibangun di tahun 1900an dan tahun 2000an)"
   ]
  },
  {
   "cell_type": "code",
   "execution_count": 58,
   "id": "da72a196",
   "metadata": {},
   "outputs": [
    {
     "data": {
      "text/html": [
       "<div>\n",
       "<style scoped>\n",
       "    .dataframe tbody tr th:only-of-type {\n",
       "        vertical-align: middle;\n",
       "    }\n",
       "\n",
       "    .dataframe tbody tr th {\n",
       "        vertical-align: top;\n",
       "    }\n",
       "\n",
       "    .dataframe thead th {\n",
       "        text-align: right;\n",
       "    }\n",
       "</style>\n",
       "<table border=\"1\" class=\"dataframe\">\n",
       "  <thead>\n",
       "    <tr style=\"text-align: right;\">\n",
       "      <th></th>\n",
       "      <th>YEAR BUILT</th>\n",
       "      <th>SALE PRICE</th>\n",
       "    </tr>\n",
       "  </thead>\n",
       "  <tbody>\n",
       "    <tr>\n",
       "      <th>0</th>\n",
       "      <td>1900</td>\n",
       "      <td>6625000.0</td>\n",
       "    </tr>\n",
       "    <tr>\n",
       "      <th>3</th>\n",
       "      <td>1913</td>\n",
       "      <td>3936272.0</td>\n",
       "    </tr>\n",
       "    <tr>\n",
       "      <th>4</th>\n",
       "      <td>1900</td>\n",
       "      <td>8000000.0</td>\n",
       "    </tr>\n",
       "    <tr>\n",
       "      <th>6</th>\n",
       "      <td>1920</td>\n",
       "      <td>3192840.0</td>\n",
       "    </tr>\n",
       "    <tr>\n",
       "      <th>12</th>\n",
       "      <td>1920</td>\n",
       "      <td>1.0</td>\n",
       "    </tr>\n",
       "    <tr>\n",
       "      <th>13</th>\n",
       "      <td>1920</td>\n",
       "      <td>499000.0</td>\n",
       "    </tr>\n",
       "    <tr>\n",
       "      <th>14</th>\n",
       "      <td>1920</td>\n",
       "      <td>10.0</td>\n",
       "    </tr>\n",
       "    <tr>\n",
       "      <th>15</th>\n",
       "      <td>1920</td>\n",
       "      <td>529500.0</td>\n",
       "    </tr>\n",
       "    <tr>\n",
       "      <th>16</th>\n",
       "      <td>1920</td>\n",
       "      <td>423000.0</td>\n",
       "    </tr>\n",
       "    <tr>\n",
       "      <th>17</th>\n",
       "      <td>1925</td>\n",
       "      <td>501000.0</td>\n",
       "    </tr>\n",
       "    <tr>\n",
       "      <th>18</th>\n",
       "      <td>1920</td>\n",
       "      <td>450000.0</td>\n",
       "    </tr>\n",
       "    <tr>\n",
       "      <th>19</th>\n",
       "      <td>1920</td>\n",
       "      <td>510000.0</td>\n",
       "    </tr>\n",
       "    <tr>\n",
       "      <th>21</th>\n",
       "      <td>1902</td>\n",
       "      <td>350000.0</td>\n",
       "    </tr>\n",
       "    <tr>\n",
       "      <th>23</th>\n",
       "      <td>1928</td>\n",
       "      <td>11900000.0</td>\n",
       "    </tr>\n",
       "    <tr>\n",
       "      <th>24</th>\n",
       "      <td>1928</td>\n",
       "      <td>350000.0</td>\n",
       "    </tr>\n",
       "    <tr>\n",
       "      <th>25</th>\n",
       "      <td>1928</td>\n",
       "      <td>404000.0</td>\n",
       "    </tr>\n",
       "    <tr>\n",
       "      <th>26</th>\n",
       "      <td>1910</td>\n",
       "      <td>535000.0</td>\n",
       "    </tr>\n",
       "    <tr>\n",
       "      <th>27</th>\n",
       "      <td>1920</td>\n",
       "      <td>1400000.0</td>\n",
       "    </tr>\n",
       "    <tr>\n",
       "      <th>28</th>\n",
       "      <td>1900</td>\n",
       "      <td>866000.0</td>\n",
       "    </tr>\n",
       "    <tr>\n",
       "      <th>29</th>\n",
       "      <td>1930</td>\n",
       "      <td>355000.0</td>\n",
       "    </tr>\n",
       "  </tbody>\n",
       "</table>\n",
       "</div>"
      ],
      "text/plain": [
       "    YEAR BUILT  SALE PRICE\n",
       "0         1900   6625000.0\n",
       "3         1913   3936272.0\n",
       "4         1900   8000000.0\n",
       "6         1920   3192840.0\n",
       "12        1920         1.0\n",
       "13        1920    499000.0\n",
       "14        1920        10.0\n",
       "15        1920    529500.0\n",
       "16        1920    423000.0\n",
       "17        1925    501000.0\n",
       "18        1920    450000.0\n",
       "19        1920    510000.0\n",
       "21        1902    350000.0\n",
       "23        1928  11900000.0\n",
       "24        1928    350000.0\n",
       "25        1928    404000.0\n",
       "26        1910    535000.0\n",
       "27        1920   1400000.0\n",
       "28        1900    866000.0\n",
       "29        1930    355000.0"
      ]
     },
     "execution_count": 58,
     "metadata": {},
     "output_type": "execute_result"
    }
   ],
   "source": [
    "yb_sp = data[['YEAR BUILT', 'SALE PRICE']]\n",
    "yb_sp.head(20)"
   ]
  },
  {
   "cell_type": "code",
   "execution_count": 59,
   "id": "4b334691",
   "metadata": {},
   "outputs": [
    {
     "data": {
      "text/html": [
       "<div>\n",
       "<style scoped>\n",
       "    .dataframe tbody tr th:only-of-type {\n",
       "        vertical-align: middle;\n",
       "    }\n",
       "\n",
       "    .dataframe tbody tr th {\n",
       "        vertical-align: top;\n",
       "    }\n",
       "\n",
       "    .dataframe thead th {\n",
       "        text-align: right;\n",
       "    }\n",
       "</style>\n",
       "<table border=\"1\" class=\"dataframe\">\n",
       "  <thead>\n",
       "    <tr style=\"text-align: right;\">\n",
       "      <th></th>\n",
       "      <th>YEAR BUILT</th>\n",
       "      <th>SALE PRICE</th>\n",
       "    </tr>\n",
       "  </thead>\n",
       "  <tbody>\n",
       "    <tr>\n",
       "      <th>0</th>\n",
       "      <td>1900</td>\n",
       "      <td>6625000.0</td>\n",
       "    </tr>\n",
       "    <tr>\n",
       "      <th>3</th>\n",
       "      <td>1913</td>\n",
       "      <td>3936272.0</td>\n",
       "    </tr>\n",
       "    <tr>\n",
       "      <th>4</th>\n",
       "      <td>1900</td>\n",
       "      <td>8000000.0</td>\n",
       "    </tr>\n",
       "    <tr>\n",
       "      <th>6</th>\n",
       "      <td>1920</td>\n",
       "      <td>3192840.0</td>\n",
       "    </tr>\n",
       "    <tr>\n",
       "      <th>12</th>\n",
       "      <td>1920</td>\n",
       "      <td>1.0</td>\n",
       "    </tr>\n",
       "  </tbody>\n",
       "</table>\n",
       "</div>"
      ],
      "text/plain": [
       "    YEAR BUILT  SALE PRICE\n",
       "0         1900   6625000.0\n",
       "3         1913   3936272.0\n",
       "4         1900   8000000.0\n",
       "6         1920   3192840.0\n",
       "12        1920         1.0"
      ]
     },
     "execution_count": 59,
     "metadata": {},
     "output_type": "execute_result"
    }
   ],
   "source": [
    "yb_90s= yb_sp[(yb_sp[\"YEAR BUILT\"] >= 1900) & (yb_sp[\"YEAR BUILT\"] < 2000)]\n",
    "yb_90s.head()"
   ]
  },
  {
   "cell_type": "code",
   "execution_count": 60,
   "id": "c479fb31",
   "metadata": {},
   "outputs": [
    {
     "data": {
      "text/html": [
       "<div>\n",
       "<style scoped>\n",
       "    .dataframe tbody tr th:only-of-type {\n",
       "        vertical-align: middle;\n",
       "    }\n",
       "\n",
       "    .dataframe tbody tr th {\n",
       "        vertical-align: top;\n",
       "    }\n",
       "\n",
       "    .dataframe thead th {\n",
       "        text-align: right;\n",
       "    }\n",
       "</style>\n",
       "<table border=\"1\" class=\"dataframe\">\n",
       "  <thead>\n",
       "    <tr style=\"text-align: right;\">\n",
       "      <th></th>\n",
       "      <th>YEAR BUILT</th>\n",
       "      <th>SALE PRICE</th>\n",
       "    </tr>\n",
       "  </thead>\n",
       "  <tbody>\n",
       "    <tr>\n",
       "      <th>95</th>\n",
       "      <td>2014</td>\n",
       "      <td>701341.0</td>\n",
       "    </tr>\n",
       "    <tr>\n",
       "      <th>100</th>\n",
       "      <td>2014</td>\n",
       "      <td>753421.0</td>\n",
       "    </tr>\n",
       "    <tr>\n",
       "      <th>104</th>\n",
       "      <td>2014</td>\n",
       "      <td>771980.0</td>\n",
       "    </tr>\n",
       "    <tr>\n",
       "      <th>112</th>\n",
       "      <td>2014</td>\n",
       "      <td>1247356.0</td>\n",
       "    </tr>\n",
       "    <tr>\n",
       "      <th>116</th>\n",
       "      <td>2005</td>\n",
       "      <td>2150000.0</td>\n",
       "    </tr>\n",
       "  </tbody>\n",
       "</table>\n",
       "</div>"
      ],
      "text/plain": [
       "     YEAR BUILT  SALE PRICE\n",
       "95         2014    701341.0\n",
       "100        2014    753421.0\n",
       "104        2014    771980.0\n",
       "112        2014   1247356.0\n",
       "116        2005   2150000.0"
      ]
     },
     "execution_count": 60,
     "metadata": {},
     "output_type": "execute_result"
    }
   ],
   "source": [
    "yb_00s = yb_sp[yb_sp[\"YEAR BUILT\"] >= 2000]\n",
    "yb_00s.head()"
   ]
  },
  {
   "cell_type": "code",
   "execution_count": 61,
   "id": "e0f7afb3",
   "metadata": {},
   "outputs": [
    {
     "name": "stdout",
     "output_type": "stream",
     "text": [
      "50604 803439.6426764682 2164730.728251878 \n",
      " 9861 1503087.4290639895 3433134.7323884326\n"
     ]
    }
   ],
   "source": [
    "n90s = len(yb_90s)\n",
    "n00s = len(yb_00s)\n",
    "\n",
    "mean_90s = yb_90s[\"SALE PRICE\"].mean()\n",
    "mean_00s = yb_00s[\"SALE PRICE\"].mean()\n",
    "\n",
    "std_90s = yb_90s[\"SALE PRICE\"].std()\n",
    "std_00s = yb_00s[\"SALE PRICE\"].std()\n",
    "\n",
    "print(n90s, mean_90s, std_90s,'\\n',n00s, mean_00s, std_00s)"
   ]
  },
  {
   "cell_type": "code",
   "execution_count": 62,
   "id": "9350a4af",
   "metadata": {},
   "outputs": [
    {
     "data": {
      "text/plain": [
       "(-26.29221211732447, 2.35424385867561e-152)"
      ]
     },
     "execution_count": 62,
     "metadata": {},
     "output_type": "execute_result"
    }
   ],
   "source": [
    "sm.stats.ztest(yb_90s['SALE PRICE'], yb_00s['SALE PRICE'], alternative='two-sided')"
   ]
  },
  {
   "cell_type": "markdown",
   "id": "b65bbe48",
   "metadata": {},
   "source": [
    "Berdasarkan data di atas, diketahui p-value adalah 0.0 yang mana nilainya lebih kecil dari alpha (0.0 < 0.05). Maka dari itu, H0 ditolak dan H1 diterima, sehingga dapat disimpulkan bahwa ada cukup bukti untuk mengatakan bahwa terdapat perbedaan rata-rata harga jual pada properti yang dibangun di tahun 1900an dan tahun 2000an"
   ]
  },
  {
   "cell_type": "markdown",
   "id": "e02226a0",
   "metadata": {},
   "source": [
    "## Kesimpulan"
   ]
  },
  {
   "cell_type": "markdown",
   "id": "30a90ee8",
   "metadata": {},
   "source": [
    "- Data yang digunakan untuk perhitungan statistik di tugas ini didapati dari hasil data cleaning dan inspection yang mana berjumlah 53856. Data ini pada awalnya berjumlah 84548 \n",
    "- Dari kelima Borough, yang memiliki harga jual dengan rata-rata dan nilai tengah yang tertinggi adalah Manhattan\n",
    "- Sale Price berdistribusi gamma dan kurvanya memiliki kemencengan positif, sehingga, untuk mengubah kurva tsb menjadi simetris, maka digunakan log transformation\n",
    "- Confidence Interval untuk rata-rata harga jual properti di daerah Queens berada di interval 595847.1476519895 dan 608514.6523480106 USD\n",
    "- Confidence Interval untuk rata-rata harga jual kategori kelas bangunan One Family Dwellings di Queens berada di interval 608013.7381482649 dan 623843.0618517351 USD\n",
    "- Berdasarkan hypothesis testing untuk menentukan apakah ada perbedaan rata-rata harga jual pada properti yang dibangun di tahun 1900an dan tahun 2000an, dapat diketahui p-value (0.0) kurang dari alpha (0.05). Dengan begitu, dapat dikatakan bahwa terdapat perbedaan rata-rata harga jual pada properti yang dibangun di tahun 1900an dan tahun 2000an"
   ]
  },
  {
   "cell_type": "code",
   "execution_count": null,
   "id": "aca8d861",
   "metadata": {},
   "outputs": [],
   "source": []
  }
 ],
 "metadata": {
  "kernelspec": {
   "display_name": "Python 3 (ipykernel)",
   "language": "python",
   "name": "python3"
  },
  "language_info": {
   "codemirror_mode": {
    "name": "ipython",
    "version": 3
   },
   "file_extension": ".py",
   "mimetype": "text/x-python",
   "name": "python",
   "nbconvert_exporter": "python",
   "pygments_lexer": "ipython3",
   "version": "3.9.13"
  }
 },
 "nbformat": 4,
 "nbformat_minor": 5
}
